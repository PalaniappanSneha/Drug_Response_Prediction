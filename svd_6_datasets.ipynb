{
 "cells": [
  {
   "cell_type": "code",
   "execution_count": 1,
   "metadata": {
    "_cell_guid": "b1076dfc-b9ad-4769-8c92-a6c4dae69d19",
    "_uuid": "8f2839f25d086af736a60e9eeb907d3b93b6e0e5",
    "execution": {
     "iopub.execute_input": "2021-01-16T14:09:57.110967Z",
     "iopub.status.busy": "2021-01-16T14:09:57.106906Z",
     "iopub.status.idle": "2021-01-16T14:09:57.141109Z",
     "shell.execute_reply": "2021-01-16T14:09:57.141788Z"
    },
    "papermill": {
     "duration": 0.070068,
     "end_time": "2021-01-16T14:09:57.141958",
     "exception": false,
     "start_time": "2021-01-16T14:09:57.071890",
     "status": "completed"
    },
    "tags": []
   },
   "outputs": [
    {
     "name": "stdout",
     "output_type": "stream",
     "text": [
      "/kaggle/input/matrix-mutations-binary-pca/matrix_mutations_binary_pca (1).csv\n",
      "/kaggle/input/matrix-expression-pca/matrix_expression_pca.csv\n",
      "/kaggle/input/mirrna-pca/matrix_mirRNA_pca.csv\n",
      "/kaggle/input/matrix-metabolomics-pca/matrix_metabolomics_pca.csv\n",
      "/kaggle/input/matrix-rppa-pca/matrix_rppa_pca.csv\n",
      "/kaggle/input/matrix-cnv-pca-1/matrix_cnv_pca (1).csv\n"
     ]
    }
   ],
   "source": [
    "# This Python 3 environment comes with many helpful analytics libraries installed\n",
    "# It is defined by the kaggle/python Docker image: https://github.com/kaggle/docker-python\n",
    "# For example, here's several helpful packages to load\n",
    "\n",
    "import numpy as np # linear algebra\n",
    "import pandas as pd # data processing, CSV file I/O (e.g. pd.read_csv)\n",
    "\n",
    "# Input data files are available in the read-only \"../input/\" directory\n",
    "# For example, running this (by clicking run or pressing Shift+Enter) will list all files under the input directory\n",
    "\n",
    "import os\n",
    "for dirname, _, filenames in os.walk('/kaggle/input'):\n",
    "    for filename in filenames:\n",
    "        print(os.path.join(dirname, filename))\n",
    "\n",
    "# You can write up to 20GB to the current directory (/kaggle/working/) that gets preserved as output when you create a version using \"Save & Run All\" \n",
    "# You can also write temporary files to /kaggle/temp/, but they won't be saved outside of the current session"
   ]
  },
  {
   "cell_type": "code",
   "execution_count": 2,
   "metadata": {
    "_cell_guid": "79c7e3d0-c299-4dcb-8224-4455121ee9b0",
    "_uuid": "d629ff2d2480ee46fbb7e2d37f6b5fab8052498a",
    "execution": {
     "iopub.execute_input": "2021-01-16T14:09:57.211847Z",
     "iopub.status.busy": "2021-01-16T14:09:57.211197Z",
     "iopub.status.idle": "2021-01-16T14:09:58.389985Z",
     "shell.execute_reply": "2021-01-16T14:09:58.390516Z"
    },
    "papermill": {
     "duration": 1.216615,
     "end_time": "2021-01-16T14:09:58.390668",
     "exception": false,
     "start_time": "2021-01-16T14:09:57.174053",
     "status": "completed"
    },
    "tags": []
   },
   "outputs": [],
   "source": [
    "#Techniques inspired by: \n",
    "# https://chrisalbon.com/machine_learning/feature_engineering/select_best_number_of_components_in_tsvd/\n",
    "# https://chrisalbon.com/machine_learning/feature_engineering/dimensionality_reduction_on_sparse_feature_matrix/\n",
    "\n",
    "# Load libraries\n",
    "from sklearn.preprocessing import StandardScaler\n",
    "from sklearn.decomposition import TruncatedSVD\n",
    "from scipy.sparse import csr_matrix\n",
    "from sklearn import preprocessing\n",
    "from sklearn import datasets\n",
    "import numpy as np"
   ]
  },
  {
   "cell_type": "markdown",
   "metadata": {
    "papermill": {
     "duration": 0.031727,
     "end_time": "2021-01-16T14:09:58.454389",
     "exception": false,
     "start_time": "2021-01-16T14:09:58.422662",
     "status": "completed"
    },
    "tags": []
   },
   "source": [
    "Metabolomics"
   ]
  },
  {
   "cell_type": "code",
   "execution_count": 3,
   "metadata": {
    "execution": {
     "iopub.execute_input": "2021-01-16T14:09:58.521632Z",
     "iopub.status.busy": "2021-01-16T14:09:58.520875Z",
     "iopub.status.idle": "2021-01-16T14:09:58.671512Z",
     "shell.execute_reply": "2021-01-16T14:09:58.670752Z"
    },
    "papermill": {
     "duration": 0.185526,
     "end_time": "2021-01-16T14:09:58.671642",
     "exception": false,
     "start_time": "2021-01-16T14:09:58.486116",
     "status": "completed"
    },
    "tags": []
   },
   "outputs": [
    {
     "name": "stdout",
     "output_type": "stream",
     "text": [
      "(918, 226)\n"
     ]
    },
    {
     "data": {
      "text/html": [
       "<div>\n",
       "<style scoped>\n",
       "    .dataframe tbody tr th:only-of-type {\n",
       "        vertical-align: middle;\n",
       "    }\n",
       "\n",
       "    .dataframe tbody tr th {\n",
       "        vertical-align: top;\n",
       "    }\n",
       "\n",
       "    .dataframe thead th {\n",
       "        text-align: right;\n",
       "    }\n",
       "</style>\n",
       "<table border=\"1\" class=\"dataframe\">\n",
       "  <thead>\n",
       "    <tr style=\"text-align: right;\">\n",
       "      <th></th>\n",
       "      <th>0</th>\n",
       "      <th>1</th>\n",
       "      <th>2</th>\n",
       "      <th>3</th>\n",
       "      <th>4</th>\n",
       "      <th>5</th>\n",
       "      <th>6</th>\n",
       "      <th>7</th>\n",
       "      <th>8</th>\n",
       "      <th>9</th>\n",
       "      <th>...</th>\n",
       "      <th>216</th>\n",
       "      <th>217</th>\n",
       "      <th>218</th>\n",
       "      <th>219</th>\n",
       "      <th>220</th>\n",
       "      <th>221</th>\n",
       "      <th>222</th>\n",
       "      <th>223</th>\n",
       "      <th>224</th>\n",
       "      <th>225</th>\n",
       "    </tr>\n",
       "  </thead>\n",
       "  <tbody>\n",
       "    <tr>\n",
       "      <th>0</th>\n",
       "      <td>SIDM00523</td>\n",
       "      <td>6.112727</td>\n",
       "      <td>6.034198</td>\n",
       "      <td>5.896896</td>\n",
       "      <td>6.000532</td>\n",
       "      <td>5.513618</td>\n",
       "      <td>5.868529</td>\n",
       "      <td>5.977177</td>\n",
       "      <td>5.693074</td>\n",
       "      <td>5.923737</td>\n",
       "      <td>...</td>\n",
       "      <td>6.070239</td>\n",
       "      <td>6.133433</td>\n",
       "      <td>6.091089</td>\n",
       "      <td>6.257711</td>\n",
       "      <td>6.372732</td>\n",
       "      <td>6.202511</td>\n",
       "      <td>5.939576</td>\n",
       "      <td>6.309821</td>\n",
       "      <td>6.115974</td>\n",
       "      <td>5.999436</td>\n",
       "    </tr>\n",
       "    <tr>\n",
       "      <th>1</th>\n",
       "      <td>SIDM00835</td>\n",
       "      <td>5.577413</td>\n",
       "      <td>5.727045</td>\n",
       "      <td>5.111468</td>\n",
       "      <td>6.073250</td>\n",
       "      <td>5.802494</td>\n",
       "      <td>5.824473</td>\n",
       "      <td>5.888821</td>\n",
       "      <td>5.768379</td>\n",
       "      <td>5.760784</td>\n",
       "      <td>...</td>\n",
       "      <td>6.248653</td>\n",
       "      <td>6.633575</td>\n",
       "      <td>6.378052</td>\n",
       "      <td>6.341043</td>\n",
       "      <td>6.360945</td>\n",
       "      <td>6.333540</td>\n",
       "      <td>6.137271</td>\n",
       "      <td>7.065858</td>\n",
       "      <td>6.832174</td>\n",
       "      <td>6.363064</td>\n",
       "    </tr>\n",
       "    <tr>\n",
       "      <th>2</th>\n",
       "      <td>SIDM00741</td>\n",
       "      <td>5.886398</td>\n",
       "      <td>5.574881</td>\n",
       "      <td>5.541259</td>\n",
       "      <td>5.848375</td>\n",
       "      <td>5.665026</td>\n",
       "      <td>5.875548</td>\n",
       "      <td>5.894904</td>\n",
       "      <td>5.839640</td>\n",
       "      <td>5.742613</td>\n",
       "      <td>...</td>\n",
       "      <td>5.942887</td>\n",
       "      <td>5.946988</td>\n",
       "      <td>5.837980</td>\n",
       "      <td>5.913350</td>\n",
       "      <td>6.137530</td>\n",
       "      <td>5.807546</td>\n",
       "      <td>5.704149</td>\n",
       "      <td>5.881193</td>\n",
       "      <td>5.785208</td>\n",
       "      <td>5.504225</td>\n",
       "    </tr>\n",
       "    <tr>\n",
       "      <th>3</th>\n",
       "      <td>SIDM01254</td>\n",
       "      <td>5.770030</td>\n",
       "      <td>6.099229</td>\n",
       "      <td>6.233259</td>\n",
       "      <td>5.543496</td>\n",
       "      <td>5.767759</td>\n",
       "      <td>6.155905</td>\n",
       "      <td>6.111148</td>\n",
       "      <td>5.949481</td>\n",
       "      <td>6.342703</td>\n",
       "      <td>...</td>\n",
       "      <td>6.516922</td>\n",
       "      <td>6.113791</td>\n",
       "      <td>6.282113</td>\n",
       "      <td>6.248667</td>\n",
       "      <td>6.109480</td>\n",
       "      <td>6.043570</td>\n",
       "      <td>5.846802</td>\n",
       "      <td>6.429402</td>\n",
       "      <td>5.779815</td>\n",
       "      <td>6.241530</td>\n",
       "    </tr>\n",
       "    <tr>\n",
       "      <th>4</th>\n",
       "      <td>SIDM00851</td>\n",
       "      <td>5.480683</td>\n",
       "      <td>5.469742</td>\n",
       "      <td>6.509397</td>\n",
       "      <td>6.251005</td>\n",
       "      <td>5.190578</td>\n",
       "      <td>5.897085</td>\n",
       "      <td>6.148333</td>\n",
       "      <td>5.607481</td>\n",
       "      <td>5.871600</td>\n",
       "      <td>...</td>\n",
       "      <td>6.161981</td>\n",
       "      <td>6.777932</td>\n",
       "      <td>6.676390</td>\n",
       "      <td>6.695659</td>\n",
       "      <td>6.751029</td>\n",
       "      <td>6.385056</td>\n",
       "      <td>6.682612</td>\n",
       "      <td>6.757899</td>\n",
       "      <td>6.728570</td>\n",
       "      <td>6.879260</td>\n",
       "    </tr>\n",
       "  </tbody>\n",
       "</table>\n",
       "<p>5 rows × 226 columns</p>\n",
       "</div>"
      ],
      "text/plain": [
       "         0         1         2         3         4         5         6    \\\n",
       "0  SIDM00523  6.112727  6.034198  5.896896  6.000532  5.513618  5.868529   \n",
       "1  SIDM00835  5.577413  5.727045  5.111468  6.073250  5.802494  5.824473   \n",
       "2  SIDM00741  5.886398  5.574881  5.541259  5.848375  5.665026  5.875548   \n",
       "3  SIDM01254  5.770030  6.099229  6.233259  5.543496  5.767759  6.155905   \n",
       "4  SIDM00851  5.480683  5.469742  6.509397  6.251005  5.190578  5.897085   \n",
       "\n",
       "        7         8         9    ...       216       217       218       219  \\\n",
       "0  5.977177  5.693074  5.923737  ...  6.070239  6.133433  6.091089  6.257711   \n",
       "1  5.888821  5.768379  5.760784  ...  6.248653  6.633575  6.378052  6.341043   \n",
       "2  5.894904  5.839640  5.742613  ...  5.942887  5.946988  5.837980  5.913350   \n",
       "3  6.111148  5.949481  6.342703  ...  6.516922  6.113791  6.282113  6.248667   \n",
       "4  6.148333  5.607481  5.871600  ...  6.161981  6.777932  6.676390  6.695659   \n",
       "\n",
       "        220       221       222       223       224       225  \n",
       "0  6.372732  6.202511  5.939576  6.309821  6.115974  5.999436  \n",
       "1  6.360945  6.333540  6.137271  7.065858  6.832174  6.363064  \n",
       "2  6.137530  5.807546  5.704149  5.881193  5.785208  5.504225  \n",
       "3  6.109480  6.043570  5.846802  6.429402  5.779815  6.241530  \n",
       "4  6.751029  6.385056  6.682612  6.757899  6.728570  6.879260  \n",
       "\n",
       "[5 rows x 226 columns]"
      ]
     },
     "execution_count": 3,
     "metadata": {},
     "output_type": "execute_result"
    }
   ],
   "source": [
    "Metabolomics_original = pd.read_csv(\"../input/matrix-metabolomics-pca/matrix_metabolomics_pca.csv\",header=None)\n",
    "metabolomics = Metabolomics_original.copy()\n",
    "print(metabolomics.shape)\n",
    "metabolomics.head()"
   ]
  },
  {
   "cell_type": "code",
   "execution_count": 4,
   "metadata": {
    "execution": {
     "iopub.execute_input": "2021-01-16T14:09:58.764659Z",
     "iopub.status.busy": "2021-01-16T14:09:58.761615Z",
     "iopub.status.idle": "2021-01-16T14:09:58.770246Z",
     "shell.execute_reply": "2021-01-16T14:09:58.769619Z"
    },
    "papermill": {
     "duration": 0.064941,
     "end_time": "2021-01-16T14:09:58.770389",
     "exception": false,
     "start_time": "2021-01-16T14:09:58.705448",
     "status": "completed"
    },
    "tags": []
   },
   "outputs": [
    {
     "data": {
      "text/html": [
       "<div>\n",
       "<style scoped>\n",
       "    .dataframe tbody tr th:only-of-type {\n",
       "        vertical-align: middle;\n",
       "    }\n",
       "\n",
       "    .dataframe tbody tr th {\n",
       "        vertical-align: top;\n",
       "    }\n",
       "\n",
       "    .dataframe thead th {\n",
       "        text-align: right;\n",
       "    }\n",
       "</style>\n",
       "<table border=\"1\" class=\"dataframe\">\n",
       "  <thead>\n",
       "    <tr style=\"text-align: right;\">\n",
       "      <th></th>\n",
       "      <th>1</th>\n",
       "      <th>2</th>\n",
       "      <th>3</th>\n",
       "      <th>4</th>\n",
       "      <th>5</th>\n",
       "      <th>6</th>\n",
       "      <th>7</th>\n",
       "      <th>8</th>\n",
       "      <th>9</th>\n",
       "      <th>10</th>\n",
       "      <th>...</th>\n",
       "      <th>216</th>\n",
       "      <th>217</th>\n",
       "      <th>218</th>\n",
       "      <th>219</th>\n",
       "      <th>220</th>\n",
       "      <th>221</th>\n",
       "      <th>222</th>\n",
       "      <th>223</th>\n",
       "      <th>224</th>\n",
       "      <th>225</th>\n",
       "    </tr>\n",
       "  </thead>\n",
       "  <tbody>\n",
       "    <tr>\n",
       "      <th>0</th>\n",
       "      <td>6.112727</td>\n",
       "      <td>6.034198</td>\n",
       "      <td>5.896896</td>\n",
       "      <td>6.000532</td>\n",
       "      <td>5.513618</td>\n",
       "      <td>5.868529</td>\n",
       "      <td>5.977177</td>\n",
       "      <td>5.693074</td>\n",
       "      <td>5.923737</td>\n",
       "      <td>5.641243</td>\n",
       "      <td>...</td>\n",
       "      <td>6.070239</td>\n",
       "      <td>6.133433</td>\n",
       "      <td>6.091089</td>\n",
       "      <td>6.257711</td>\n",
       "      <td>6.372732</td>\n",
       "      <td>6.202511</td>\n",
       "      <td>5.939576</td>\n",
       "      <td>6.309821</td>\n",
       "      <td>6.115974</td>\n",
       "      <td>5.999436</td>\n",
       "    </tr>\n",
       "    <tr>\n",
       "      <th>1</th>\n",
       "      <td>5.577413</td>\n",
       "      <td>5.727045</td>\n",
       "      <td>5.111468</td>\n",
       "      <td>6.073250</td>\n",
       "      <td>5.802494</td>\n",
       "      <td>5.824473</td>\n",
       "      <td>5.888821</td>\n",
       "      <td>5.768379</td>\n",
       "      <td>5.760784</td>\n",
       "      <td>5.914742</td>\n",
       "      <td>...</td>\n",
       "      <td>6.248653</td>\n",
       "      <td>6.633575</td>\n",
       "      <td>6.378052</td>\n",
       "      <td>6.341043</td>\n",
       "      <td>6.360945</td>\n",
       "      <td>6.333540</td>\n",
       "      <td>6.137271</td>\n",
       "      <td>7.065858</td>\n",
       "      <td>6.832174</td>\n",
       "      <td>6.363064</td>\n",
       "    </tr>\n",
       "    <tr>\n",
       "      <th>2</th>\n",
       "      <td>5.886398</td>\n",
       "      <td>5.574881</td>\n",
       "      <td>5.541259</td>\n",
       "      <td>5.848375</td>\n",
       "      <td>5.665026</td>\n",
       "      <td>5.875548</td>\n",
       "      <td>5.894904</td>\n",
       "      <td>5.839640</td>\n",
       "      <td>5.742613</td>\n",
       "      <td>5.570208</td>\n",
       "      <td>...</td>\n",
       "      <td>5.942887</td>\n",
       "      <td>5.946988</td>\n",
       "      <td>5.837980</td>\n",
       "      <td>5.913350</td>\n",
       "      <td>6.137530</td>\n",
       "      <td>5.807546</td>\n",
       "      <td>5.704149</td>\n",
       "      <td>5.881193</td>\n",
       "      <td>5.785208</td>\n",
       "      <td>5.504225</td>\n",
       "    </tr>\n",
       "    <tr>\n",
       "      <th>3</th>\n",
       "      <td>5.770030</td>\n",
       "      <td>6.099229</td>\n",
       "      <td>6.233259</td>\n",
       "      <td>5.543496</td>\n",
       "      <td>5.767759</td>\n",
       "      <td>6.155905</td>\n",
       "      <td>6.111148</td>\n",
       "      <td>5.949481</td>\n",
       "      <td>6.342703</td>\n",
       "      <td>6.054781</td>\n",
       "      <td>...</td>\n",
       "      <td>6.516922</td>\n",
       "      <td>6.113791</td>\n",
       "      <td>6.282113</td>\n",
       "      <td>6.248667</td>\n",
       "      <td>6.109480</td>\n",
       "      <td>6.043570</td>\n",
       "      <td>5.846802</td>\n",
       "      <td>6.429402</td>\n",
       "      <td>5.779815</td>\n",
       "      <td>6.241530</td>\n",
       "    </tr>\n",
       "    <tr>\n",
       "      <th>4</th>\n",
       "      <td>5.480683</td>\n",
       "      <td>5.469742</td>\n",
       "      <td>6.509397</td>\n",
       "      <td>6.251005</td>\n",
       "      <td>5.190578</td>\n",
       "      <td>5.897085</td>\n",
       "      <td>6.148333</td>\n",
       "      <td>5.607481</td>\n",
       "      <td>5.871600</td>\n",
       "      <td>5.128463</td>\n",
       "      <td>...</td>\n",
       "      <td>6.161981</td>\n",
       "      <td>6.777932</td>\n",
       "      <td>6.676390</td>\n",
       "      <td>6.695659</td>\n",
       "      <td>6.751029</td>\n",
       "      <td>6.385056</td>\n",
       "      <td>6.682612</td>\n",
       "      <td>6.757899</td>\n",
       "      <td>6.728570</td>\n",
       "      <td>6.879260</td>\n",
       "    </tr>\n",
       "  </tbody>\n",
       "</table>\n",
       "<p>5 rows × 225 columns</p>\n",
       "</div>"
      ],
      "text/plain": [
       "        1         2         3         4         5         6         7    \\\n",
       "0  6.112727  6.034198  5.896896  6.000532  5.513618  5.868529  5.977177   \n",
       "1  5.577413  5.727045  5.111468  6.073250  5.802494  5.824473  5.888821   \n",
       "2  5.886398  5.574881  5.541259  5.848375  5.665026  5.875548  5.894904   \n",
       "3  5.770030  6.099229  6.233259  5.543496  5.767759  6.155905  6.111148   \n",
       "4  5.480683  5.469742  6.509397  6.251005  5.190578  5.897085  6.148333   \n",
       "\n",
       "        8         9         10   ...       216       217       218       219  \\\n",
       "0  5.693074  5.923737  5.641243  ...  6.070239  6.133433  6.091089  6.257711   \n",
       "1  5.768379  5.760784  5.914742  ...  6.248653  6.633575  6.378052  6.341043   \n",
       "2  5.839640  5.742613  5.570208  ...  5.942887  5.946988  5.837980  5.913350   \n",
       "3  5.949481  6.342703  6.054781  ...  6.516922  6.113791  6.282113  6.248667   \n",
       "4  5.607481  5.871600  5.128463  ...  6.161981  6.777932  6.676390  6.695659   \n",
       "\n",
       "        220       221       222       223       224       225  \n",
       "0  6.372732  6.202511  5.939576  6.309821  6.115974  5.999436  \n",
       "1  6.360945  6.333540  6.137271  7.065858  6.832174  6.363064  \n",
       "2  6.137530  5.807546  5.704149  5.881193  5.785208  5.504225  \n",
       "3  6.109480  6.043570  5.846802  6.429402  5.779815  6.241530  \n",
       "4  6.751029  6.385056  6.682612  6.757899  6.728570  6.879260  \n",
       "\n",
       "[5 rows x 225 columns]"
      ]
     },
     "execution_count": 4,
     "metadata": {},
     "output_type": "execute_result"
    }
   ],
   "source": [
    "# Remove model_id column (first column)\n",
    "first_column = metabolomics.columns[0]\n",
    "metabolomics = metabolomics.drop([first_column], axis=1)\n",
    "metabolomics.head()"
   ]
  },
  {
   "cell_type": "code",
   "execution_count": 5,
   "metadata": {
    "execution": {
     "iopub.execute_input": "2021-01-16T14:09:58.845754Z",
     "iopub.status.busy": "2021-01-16T14:09:58.845108Z",
     "iopub.status.idle": "2021-01-16T14:09:58.848460Z",
     "shell.execute_reply": "2021-01-16T14:09:58.849306Z"
    },
    "papermill": {
     "duration": 0.045723,
     "end_time": "2021-01-16T14:09:58.849534",
     "exception": false,
     "start_time": "2021-01-16T14:09:58.803811",
     "status": "completed"
    },
    "tags": []
   },
   "outputs": [
    {
     "name": "stdout",
     "output_type": "stream",
     "text": [
      "(918, 225)\n"
     ]
    }
   ],
   "source": [
    "# Load the data\n",
    "X = metabolomics.iloc [:,0:225].values\n",
    "print(X.shape)"
   ]
  },
  {
   "cell_type": "code",
   "execution_count": 6,
   "metadata": {
    "execution": {
     "iopub.execute_input": "2021-01-16T14:09:58.922899Z",
     "iopub.status.busy": "2021-01-16T14:09:58.922229Z",
     "iopub.status.idle": "2021-01-16T14:09:58.949804Z",
     "shell.execute_reply": "2021-01-16T14:09:58.949266Z"
    },
    "papermill": {
     "duration": 0.065107,
     "end_time": "2021-01-16T14:09:58.949916",
     "exception": false,
     "start_time": "2021-01-16T14:09:58.884809",
     "status": "completed"
    },
    "tags": []
   },
   "outputs": [
    {
     "data": {
      "text/plain": [
       "(918, 225)"
      ]
     },
     "execution_count": 6,
     "metadata": {},
     "output_type": "execute_result"
    }
   ],
   "source": [
    "# Standardize the feature matrix\n",
    "X = StandardScaler().fit_transform(X)\n",
    "\n",
    "# Make sparse matrix\n",
    "X_sparse = csr_matrix(X)\n",
    "X_sparse.shape"
   ]
  },
  {
   "cell_type": "code",
   "execution_count": 7,
   "metadata": {
    "execution": {
     "iopub.execute_input": "2021-01-16T14:09:59.024687Z",
     "iopub.status.busy": "2021-01-16T14:09:59.024014Z",
     "iopub.status.idle": "2021-01-16T14:09:59.209002Z",
     "shell.execute_reply": "2021-01-16T14:09:59.209569Z"
    },
    "papermill": {
     "duration": 0.224885,
     "end_time": "2021-01-16T14:09:59.209714",
     "exception": false,
     "start_time": "2021-01-16T14:09:58.984829",
     "status": "completed"
    },
    "tags": []
   },
   "outputs": [],
   "source": [
    "# Create and run an TSVD with one less than number of features\n",
    "tsvd = TruncatedSVD(n_components=X_sparse.shape[1]-1)\n",
    "X_tsvd = tsvd.fit(X)"
   ]
  },
  {
   "cell_type": "code",
   "execution_count": 8,
   "metadata": {
    "execution": {
     "iopub.execute_input": "2021-01-16T14:09:59.282383Z",
     "iopub.status.busy": "2021-01-16T14:09:59.281413Z",
     "iopub.status.idle": "2021-01-16T14:09:59.285248Z",
     "shell.execute_reply": "2021-01-16T14:09:59.285857Z"
    },
    "papermill": {
     "duration": 0.041906,
     "end_time": "2021-01-16T14:09:59.285987",
     "exception": false,
     "start_time": "2021-01-16T14:09:59.244081",
     "status": "completed"
    },
    "tags": []
   },
   "outputs": [],
   "source": [
    "# List of explained variances\n",
    "tsvd_var_ratios = tsvd.explained_variance_ratio_"
   ]
  },
  {
   "cell_type": "code",
   "execution_count": 9,
   "metadata": {
    "execution": {
     "iopub.execute_input": "2021-01-16T14:09:59.361149Z",
     "iopub.status.busy": "2021-01-16T14:09:59.360163Z",
     "iopub.status.idle": "2021-01-16T14:09:59.366716Z",
     "shell.execute_reply": "2021-01-16T14:09:59.367290Z"
    },
    "papermill": {
     "duration": 0.046529,
     "end_time": "2021-01-16T14:09:59.367451",
     "exception": false,
     "start_time": "2021-01-16T14:09:59.320922",
     "status": "completed"
    },
    "tags": []
   },
   "outputs": [],
   "source": [
    "# Create a function\n",
    "def select_n_components(var_ratio, goal_var: float) -> int:\n",
    "    # Set initial variance explained so far\n",
    "    total_variance = 0.0\n",
    "    \n",
    "    # Set initial number of features\n",
    "    n_components = 0\n",
    "    \n",
    "    # For the explained variance of each feature:\n",
    "    for explained_variance in var_ratio:\n",
    "        \n",
    "        # Add the explained variance to the total\n",
    "        total_variance += explained_variance\n",
    "        \n",
    "        # Add one to the number of components\n",
    "        n_components += 1\n",
    "        \n",
    "        # If we reach our goal level of explained variance\n",
    "        if total_variance >= goal_var:\n",
    "            # End the loop\n",
    "            break\n",
    "            \n",
    "    # Return the number of components\n",
    "    return n_components"
   ]
  },
  {
   "cell_type": "code",
   "execution_count": 10,
   "metadata": {
    "execution": {
     "iopub.execute_input": "2021-01-16T14:09:59.442655Z",
     "iopub.status.busy": "2021-01-16T14:09:59.441643Z",
     "iopub.status.idle": "2021-01-16T14:09:59.447056Z",
     "shell.execute_reply": "2021-01-16T14:09:59.447672Z"
    },
    "papermill": {
     "duration": 0.044632,
     "end_time": "2021-01-16T14:09:59.447806",
     "exception": false,
     "start_time": "2021-01-16T14:09:59.403174",
     "status": "completed"
    },
    "tags": []
   },
   "outputs": [
    {
     "data": {
      "text/plain": [
       "80"
      ]
     },
     "execution_count": 10,
     "metadata": {},
     "output_type": "execute_result"
    }
   ],
   "source": [
    "# Run function\n",
    "select_n_components(tsvd_var_ratios, 0.90)"
   ]
  },
  {
   "cell_type": "code",
   "execution_count": 11,
   "metadata": {
    "execution": {
     "iopub.execute_input": "2021-01-16T14:09:59.524680Z",
     "iopub.status.busy": "2021-01-16T14:09:59.523676Z",
     "iopub.status.idle": "2021-01-16T14:09:59.527734Z",
     "shell.execute_reply": "2021-01-16T14:09:59.528303Z"
    },
    "papermill": {
     "duration": 0.043981,
     "end_time": "2021-01-16T14:09:59.528478",
     "exception": false,
     "start_time": "2021-01-16T14:09:59.484497",
     "status": "completed"
    },
    "tags": []
   },
   "outputs": [],
   "source": [
    "# Create a TSVD\n",
    "tsvd = TruncatedSVD(n_components=80)"
   ]
  },
  {
   "cell_type": "code",
   "execution_count": 12,
   "metadata": {
    "execution": {
     "iopub.execute_input": "2021-01-16T14:09:59.603029Z",
     "iopub.status.busy": "2021-01-16T14:09:59.602019Z",
     "iopub.status.idle": "2021-01-16T14:09:59.744667Z",
     "shell.execute_reply": "2021-01-16T14:09:59.745336Z"
    },
    "papermill": {
     "duration": 0.181784,
     "end_time": "2021-01-16T14:09:59.745511",
     "exception": false,
     "start_time": "2021-01-16T14:09:59.563727",
     "status": "completed"
    },
    "tags": []
   },
   "outputs": [],
   "source": [
    "# Conduct TSVD on sparse matrix\n",
    "X_sparse_tsvd = tsvd.fit(X_sparse).transform(X_sparse)"
   ]
  },
  {
   "cell_type": "code",
   "execution_count": 13,
   "metadata": {
    "execution": {
     "iopub.execute_input": "2021-01-16T14:09:59.836157Z",
     "iopub.status.busy": "2021-01-16T14:09:59.835344Z",
     "iopub.status.idle": "2021-01-16T14:09:59.839254Z",
     "shell.execute_reply": "2021-01-16T14:09:59.840019Z"
    },
    "papermill": {
     "duration": 0.055742,
     "end_time": "2021-01-16T14:09:59.840167",
     "exception": false,
     "start_time": "2021-01-16T14:09:59.784425",
     "status": "completed"
    },
    "tags": []
   },
   "outputs": [
    {
     "name": "stdout",
     "output_type": "stream",
     "text": [
      "Original number of features: 225\n",
      "Reduced number of features: 80\n"
     ]
    }
   ],
   "source": [
    "# Show results\n",
    "print('Original number of features:', X_sparse.shape[1])\n",
    "print('Reduced number of features:', X_sparse_tsvd.shape[1])"
   ]
  },
  {
   "cell_type": "code",
   "execution_count": 14,
   "metadata": {
    "execution": {
     "iopub.execute_input": "2021-01-16T14:09:59.920603Z",
     "iopub.status.busy": "2021-01-16T14:09:59.919542Z",
     "iopub.status.idle": "2021-01-16T14:09:59.926077Z",
     "shell.execute_reply": "2021-01-16T14:09:59.926731Z"
    },
    "papermill": {
     "duration": 0.047139,
     "end_time": "2021-01-16T14:09:59.926874",
     "exception": false,
     "start_time": "2021-01-16T14:09:59.879735",
     "status": "completed"
    },
    "tags": []
   },
   "outputs": [
    {
     "name": "stdout",
     "output_type": "stream",
     "text": [
      "[[-0.54429691  2.78288966  2.62296759 ... -0.94623491  1.18831362\n",
      "   0.10315303]\n",
      " [-1.91309449  3.56108079  4.06897132 ... -0.20630451 -0.47154459\n",
      "  -0.30304116]\n",
      " [-4.3029178   0.95863994  5.28592211 ...  0.67195882 -0.18795301\n",
      "  -0.96652482]\n",
      " ...\n",
      " [-6.94643379 -0.89368361 -0.55619246 ... -0.31020464 -0.7781398\n",
      "  -0.25320514]\n",
      " [-0.76663042  0.5778354  -1.04928295 ... -0.63345601 -0.71608611\n",
      "   0.57715907]\n",
      " [13.52959892  9.70471107 -2.00696582 ... -0.63158905 -0.02943077\n",
      "  -0.95020818]]\n"
     ]
    }
   ],
   "source": [
    "print(X_sparse_tsvd)"
   ]
  },
  {
   "cell_type": "code",
   "execution_count": 15,
   "metadata": {
    "execution": {
     "iopub.execute_input": "2021-01-16T14:10:00.005186Z",
     "iopub.status.busy": "2021-01-16T14:10:00.004201Z",
     "iopub.status.idle": "2021-01-16T14:10:00.551391Z",
     "shell.execute_reply": "2021-01-16T14:10:00.550667Z"
    },
    "papermill": {
     "duration": 0.587927,
     "end_time": "2021-01-16T14:10:00.551506",
     "exception": false,
     "start_time": "2021-01-16T14:09:59.963579",
     "status": "completed"
    },
    "tags": []
   },
   "outputs": [],
   "source": [
    "pd.DataFrame(X_sparse_tsvd).to_csv(\"./Meta_SVD.csv\", header=None, index=None)"
   ]
  },
  {
   "cell_type": "markdown",
   "metadata": {
    "papermill": {
     "duration": 0.036361,
     "end_time": "2021-01-16T14:10:00.624560",
     "exception": false,
     "start_time": "2021-01-16T14:10:00.588199",
     "status": "completed"
    },
    "tags": []
   },
   "source": [
    "RPPA"
   ]
  },
  {
   "cell_type": "code",
   "execution_count": 16,
   "metadata": {
    "execution": {
     "iopub.execute_input": "2021-01-16T14:10:00.706495Z",
     "iopub.status.busy": "2021-01-16T14:10:00.705821Z",
     "iopub.status.idle": "2021-01-16T14:10:00.840687Z",
     "shell.execute_reply": "2021-01-16T14:10:00.839983Z"
    },
    "papermill": {
     "duration": 0.178453,
     "end_time": "2021-01-16T14:10:00.840837",
     "exception": false,
     "start_time": "2021-01-16T14:10:00.662384",
     "status": "completed"
    },
    "tags": []
   },
   "outputs": [
    {
     "name": "stdout",
     "output_type": "stream",
     "text": [
      "(889, 215)\n"
     ]
    },
    {
     "data": {
      "text/html": [
       "<div>\n",
       "<style scoped>\n",
       "    .dataframe tbody tr th:only-of-type {\n",
       "        vertical-align: middle;\n",
       "    }\n",
       "\n",
       "    .dataframe tbody tr th {\n",
       "        vertical-align: top;\n",
       "    }\n",
       "\n",
       "    .dataframe thead th {\n",
       "        text-align: right;\n",
       "    }\n",
       "</style>\n",
       "<table border=\"1\" class=\"dataframe\">\n",
       "  <thead>\n",
       "    <tr style=\"text-align: right;\">\n",
       "      <th></th>\n",
       "      <th>0</th>\n",
       "      <th>1</th>\n",
       "      <th>2</th>\n",
       "      <th>3</th>\n",
       "      <th>4</th>\n",
       "      <th>5</th>\n",
       "      <th>6</th>\n",
       "      <th>7</th>\n",
       "      <th>8</th>\n",
       "      <th>9</th>\n",
       "      <th>...</th>\n",
       "      <th>205</th>\n",
       "      <th>206</th>\n",
       "      <th>207</th>\n",
       "      <th>208</th>\n",
       "      <th>209</th>\n",
       "      <th>210</th>\n",
       "      <th>211</th>\n",
       "      <th>212</th>\n",
       "      <th>213</th>\n",
       "      <th>214</th>\n",
       "    </tr>\n",
       "  </thead>\n",
       "  <tbody>\n",
       "    <tr>\n",
       "      <th>0</th>\n",
       "      <td>SIDM00523</td>\n",
       "      <td>-0.104888</td>\n",
       "      <td>0.060414</td>\n",
       "      <td>0.309068</td>\n",
       "      <td>-0.075506</td>\n",
       "      <td>0.230359</td>\n",
       "      <td>0.198304</td>\n",
       "      <td>-0.030541</td>\n",
       "      <td>0.455889</td>\n",
       "      <td>0.090484</td>\n",
       "      <td>...</td>\n",
       "      <td>-0.099433</td>\n",
       "      <td>-0.486715</td>\n",
       "      <td>-1.147858</td>\n",
       "      <td>0.133876</td>\n",
       "      <td>-0.075812</td>\n",
       "      <td>-0.144388</td>\n",
       "      <td>-1.090303</td>\n",
       "      <td>-2.109324</td>\n",
       "      <td>0.178104</td>\n",
       "      <td>0.246541</td>\n",
       "    </tr>\n",
       "    <tr>\n",
       "      <th>1</th>\n",
       "      <td>SIDM00835</td>\n",
       "      <td>0.358504</td>\n",
       "      <td>-0.180291</td>\n",
       "      <td>-0.041237</td>\n",
       "      <td>-0.286629</td>\n",
       "      <td>-0.877406</td>\n",
       "      <td>-1.026948</td>\n",
       "      <td>-0.462761</td>\n",
       "      <td>-0.011197</td>\n",
       "      <td>0.605330</td>\n",
       "      <td>...</td>\n",
       "      <td>-0.109777</td>\n",
       "      <td>0.349330</td>\n",
       "      <td>0.770148</td>\n",
       "      <td>0.984297</td>\n",
       "      <td>-0.168138</td>\n",
       "      <td>-0.004905</td>\n",
       "      <td>0.189294</td>\n",
       "      <td>-0.283593</td>\n",
       "      <td>0.255972</td>\n",
       "      <td>-0.121134</td>\n",
       "    </tr>\n",
       "    <tr>\n",
       "      <th>2</th>\n",
       "      <td>SIDM00741</td>\n",
       "      <td>0.028738</td>\n",
       "      <td>0.071902</td>\n",
       "      <td>-0.094847</td>\n",
       "      <td>0.285069</td>\n",
       "      <td>1.321551</td>\n",
       "      <td>0.620703</td>\n",
       "      <td>-0.439484</td>\n",
       "      <td>0.195007</td>\n",
       "      <td>0.036221</td>\n",
       "      <td>...</td>\n",
       "      <td>0.154344</td>\n",
       "      <td>-0.478189</td>\n",
       "      <td>-1.185530</td>\n",
       "      <td>1.273013</td>\n",
       "      <td>-0.240413</td>\n",
       "      <td>0.476633</td>\n",
       "      <td>-1.367465</td>\n",
       "      <td>-2.525695</td>\n",
       "      <td>-0.137880</td>\n",
       "      <td>-0.451282</td>\n",
       "    </tr>\n",
       "    <tr>\n",
       "      <th>3</th>\n",
       "      <td>SIDM01254</td>\n",
       "      <td>0.120039</td>\n",
       "      <td>-0.066802</td>\n",
       "      <td>-0.128007</td>\n",
       "      <td>-0.552081</td>\n",
       "      <td>-0.292428</td>\n",
       "      <td>-1.415935</td>\n",
       "      <td>-0.138858</td>\n",
       "      <td>-0.066122</td>\n",
       "      <td>-0.346564</td>\n",
       "      <td>...</td>\n",
       "      <td>0.040106</td>\n",
       "      <td>5.923830</td>\n",
       "      <td>-3.893832</td>\n",
       "      <td>-2.499188</td>\n",
       "      <td>0.632758</td>\n",
       "      <td>0.025639</td>\n",
       "      <td>-1.189180</td>\n",
       "      <td>-3.056863</td>\n",
       "      <td>0.025997</td>\n",
       "      <td>-0.465205</td>\n",
       "    </tr>\n",
       "    <tr>\n",
       "      <th>4</th>\n",
       "      <td>SIDM00851</td>\n",
       "      <td>-0.268997</td>\n",
       "      <td>-0.060281</td>\n",
       "      <td>-0.137881</td>\n",
       "      <td>-0.398729</td>\n",
       "      <td>-0.095622</td>\n",
       "      <td>-0.533905</td>\n",
       "      <td>0.054245</td>\n",
       "      <td>-0.573022</td>\n",
       "      <td>-0.162968</td>\n",
       "      <td>...</td>\n",
       "      <td>-0.466919</td>\n",
       "      <td>5.475880</td>\n",
       "      <td>-0.561973</td>\n",
       "      <td>-0.500953</td>\n",
       "      <td>-0.261494</td>\n",
       "      <td>0.358679</td>\n",
       "      <td>-0.951686</td>\n",
       "      <td>-3.247388</td>\n",
       "      <td>-0.151424</td>\n",
       "      <td>-0.145426</td>\n",
       "    </tr>\n",
       "  </tbody>\n",
       "</table>\n",
       "<p>5 rows × 215 columns</p>\n",
       "</div>"
      ],
      "text/plain": [
       "         0         1         2         3         4         5         6    \\\n",
       "0  SIDM00523 -0.104888  0.060414  0.309068 -0.075506  0.230359  0.198304   \n",
       "1  SIDM00835  0.358504 -0.180291 -0.041237 -0.286629 -0.877406 -1.026948   \n",
       "2  SIDM00741  0.028738  0.071902 -0.094847  0.285069  1.321551  0.620703   \n",
       "3  SIDM01254  0.120039 -0.066802 -0.128007 -0.552081 -0.292428 -1.415935   \n",
       "4  SIDM00851 -0.268997 -0.060281 -0.137881 -0.398729 -0.095622 -0.533905   \n",
       "\n",
       "        7         8         9    ...       205       206       207       208  \\\n",
       "0 -0.030541  0.455889  0.090484  ... -0.099433 -0.486715 -1.147858  0.133876   \n",
       "1 -0.462761 -0.011197  0.605330  ... -0.109777  0.349330  0.770148  0.984297   \n",
       "2 -0.439484  0.195007  0.036221  ...  0.154344 -0.478189 -1.185530  1.273013   \n",
       "3 -0.138858 -0.066122 -0.346564  ...  0.040106  5.923830 -3.893832 -2.499188   \n",
       "4  0.054245 -0.573022 -0.162968  ... -0.466919  5.475880 -0.561973 -0.500953   \n",
       "\n",
       "        209       210       211       212       213       214  \n",
       "0 -0.075812 -0.144388 -1.090303 -2.109324  0.178104  0.246541  \n",
       "1 -0.168138 -0.004905  0.189294 -0.283593  0.255972 -0.121134  \n",
       "2 -0.240413  0.476633 -1.367465 -2.525695 -0.137880 -0.451282  \n",
       "3  0.632758  0.025639 -1.189180 -3.056863  0.025997 -0.465205  \n",
       "4 -0.261494  0.358679 -0.951686 -3.247388 -0.151424 -0.145426  \n",
       "\n",
       "[5 rows x 215 columns]"
      ]
     },
     "execution_count": 16,
     "metadata": {},
     "output_type": "execute_result"
    }
   ],
   "source": [
    "Rppa_original = pd.read_csv(\"../input/matrix-rppa-pca/matrix_rppa_pca.csv\",header=None)\n",
    "rppa = Rppa_original.copy()\n",
    "print(rppa.shape)\n",
    "rppa.head()"
   ]
  },
  {
   "cell_type": "code",
   "execution_count": 17,
   "metadata": {
    "execution": {
     "iopub.execute_input": "2021-01-16T14:10:00.942678Z",
     "iopub.status.busy": "2021-01-16T14:10:00.939748Z",
     "iopub.status.idle": "2021-01-16T14:10:00.946730Z",
     "shell.execute_reply": "2021-01-16T14:10:00.947230Z"
    },
    "papermill": {
     "duration": 0.068267,
     "end_time": "2021-01-16T14:10:00.947385",
     "exception": false,
     "start_time": "2021-01-16T14:10:00.879118",
     "status": "completed"
    },
    "tags": []
   },
   "outputs": [
    {
     "data": {
      "text/html": [
       "<div>\n",
       "<style scoped>\n",
       "    .dataframe tbody tr th:only-of-type {\n",
       "        vertical-align: middle;\n",
       "    }\n",
       "\n",
       "    .dataframe tbody tr th {\n",
       "        vertical-align: top;\n",
       "    }\n",
       "\n",
       "    .dataframe thead th {\n",
       "        text-align: right;\n",
       "    }\n",
       "</style>\n",
       "<table border=\"1\" class=\"dataframe\">\n",
       "  <thead>\n",
       "    <tr style=\"text-align: right;\">\n",
       "      <th></th>\n",
       "      <th>1</th>\n",
       "      <th>2</th>\n",
       "      <th>3</th>\n",
       "      <th>4</th>\n",
       "      <th>5</th>\n",
       "      <th>6</th>\n",
       "      <th>7</th>\n",
       "      <th>8</th>\n",
       "      <th>9</th>\n",
       "      <th>10</th>\n",
       "      <th>...</th>\n",
       "      <th>205</th>\n",
       "      <th>206</th>\n",
       "      <th>207</th>\n",
       "      <th>208</th>\n",
       "      <th>209</th>\n",
       "      <th>210</th>\n",
       "      <th>211</th>\n",
       "      <th>212</th>\n",
       "      <th>213</th>\n",
       "      <th>214</th>\n",
       "    </tr>\n",
       "  </thead>\n",
       "  <tbody>\n",
       "    <tr>\n",
       "      <th>0</th>\n",
       "      <td>-0.104888</td>\n",
       "      <td>0.060414</td>\n",
       "      <td>0.309068</td>\n",
       "      <td>-0.075506</td>\n",
       "      <td>0.230359</td>\n",
       "      <td>0.198304</td>\n",
       "      <td>-0.030541</td>\n",
       "      <td>0.455889</td>\n",
       "      <td>0.090484</td>\n",
       "      <td>0.268448</td>\n",
       "      <td>...</td>\n",
       "      <td>-0.099433</td>\n",
       "      <td>-0.486715</td>\n",
       "      <td>-1.147858</td>\n",
       "      <td>0.133876</td>\n",
       "      <td>-0.075812</td>\n",
       "      <td>-0.144388</td>\n",
       "      <td>-1.090303</td>\n",
       "      <td>-2.109324</td>\n",
       "      <td>0.178104</td>\n",
       "      <td>0.246541</td>\n",
       "    </tr>\n",
       "    <tr>\n",
       "      <th>1</th>\n",
       "      <td>0.358504</td>\n",
       "      <td>-0.180291</td>\n",
       "      <td>-0.041237</td>\n",
       "      <td>-0.286629</td>\n",
       "      <td>-0.877406</td>\n",
       "      <td>-1.026948</td>\n",
       "      <td>-0.462761</td>\n",
       "      <td>-0.011197</td>\n",
       "      <td>0.605330</td>\n",
       "      <td>-0.614974</td>\n",
       "      <td>...</td>\n",
       "      <td>-0.109777</td>\n",
       "      <td>0.349330</td>\n",
       "      <td>0.770148</td>\n",
       "      <td>0.984297</td>\n",
       "      <td>-0.168138</td>\n",
       "      <td>-0.004905</td>\n",
       "      <td>0.189294</td>\n",
       "      <td>-0.283593</td>\n",
       "      <td>0.255972</td>\n",
       "      <td>-0.121134</td>\n",
       "    </tr>\n",
       "    <tr>\n",
       "      <th>2</th>\n",
       "      <td>0.028738</td>\n",
       "      <td>0.071902</td>\n",
       "      <td>-0.094847</td>\n",
       "      <td>0.285069</td>\n",
       "      <td>1.321551</td>\n",
       "      <td>0.620703</td>\n",
       "      <td>-0.439484</td>\n",
       "      <td>0.195007</td>\n",
       "      <td>0.036221</td>\n",
       "      <td>0.767920</td>\n",
       "      <td>...</td>\n",
       "      <td>0.154344</td>\n",
       "      <td>-0.478189</td>\n",
       "      <td>-1.185530</td>\n",
       "      <td>1.273013</td>\n",
       "      <td>-0.240413</td>\n",
       "      <td>0.476633</td>\n",
       "      <td>-1.367465</td>\n",
       "      <td>-2.525695</td>\n",
       "      <td>-0.137880</td>\n",
       "      <td>-0.451282</td>\n",
       "    </tr>\n",
       "    <tr>\n",
       "      <th>3</th>\n",
       "      <td>0.120039</td>\n",
       "      <td>-0.066802</td>\n",
       "      <td>-0.128007</td>\n",
       "      <td>-0.552081</td>\n",
       "      <td>-0.292428</td>\n",
       "      <td>-1.415935</td>\n",
       "      <td>-0.138858</td>\n",
       "      <td>-0.066122</td>\n",
       "      <td>-0.346564</td>\n",
       "      <td>0.586421</td>\n",
       "      <td>...</td>\n",
       "      <td>0.040106</td>\n",
       "      <td>5.923830</td>\n",
       "      <td>-3.893832</td>\n",
       "      <td>-2.499188</td>\n",
       "      <td>0.632758</td>\n",
       "      <td>0.025639</td>\n",
       "      <td>-1.189180</td>\n",
       "      <td>-3.056863</td>\n",
       "      <td>0.025997</td>\n",
       "      <td>-0.465205</td>\n",
       "    </tr>\n",
       "    <tr>\n",
       "      <th>4</th>\n",
       "      <td>-0.268997</td>\n",
       "      <td>-0.060281</td>\n",
       "      <td>-0.137881</td>\n",
       "      <td>-0.398729</td>\n",
       "      <td>-0.095622</td>\n",
       "      <td>-0.533905</td>\n",
       "      <td>0.054245</td>\n",
       "      <td>-0.573022</td>\n",
       "      <td>-0.162968</td>\n",
       "      <td>-0.691478</td>\n",
       "      <td>...</td>\n",
       "      <td>-0.466919</td>\n",
       "      <td>5.475880</td>\n",
       "      <td>-0.561973</td>\n",
       "      <td>-0.500953</td>\n",
       "      <td>-0.261494</td>\n",
       "      <td>0.358679</td>\n",
       "      <td>-0.951686</td>\n",
       "      <td>-3.247388</td>\n",
       "      <td>-0.151424</td>\n",
       "      <td>-0.145426</td>\n",
       "    </tr>\n",
       "  </tbody>\n",
       "</table>\n",
       "<p>5 rows × 214 columns</p>\n",
       "</div>"
      ],
      "text/plain": [
       "        1         2         3         4         5         6         7    \\\n",
       "0 -0.104888  0.060414  0.309068 -0.075506  0.230359  0.198304 -0.030541   \n",
       "1  0.358504 -0.180291 -0.041237 -0.286629 -0.877406 -1.026948 -0.462761   \n",
       "2  0.028738  0.071902 -0.094847  0.285069  1.321551  0.620703 -0.439484   \n",
       "3  0.120039 -0.066802 -0.128007 -0.552081 -0.292428 -1.415935 -0.138858   \n",
       "4 -0.268997 -0.060281 -0.137881 -0.398729 -0.095622 -0.533905  0.054245   \n",
       "\n",
       "        8         9         10   ...       205       206       207       208  \\\n",
       "0  0.455889  0.090484  0.268448  ... -0.099433 -0.486715 -1.147858  0.133876   \n",
       "1 -0.011197  0.605330 -0.614974  ... -0.109777  0.349330  0.770148  0.984297   \n",
       "2  0.195007  0.036221  0.767920  ...  0.154344 -0.478189 -1.185530  1.273013   \n",
       "3 -0.066122 -0.346564  0.586421  ...  0.040106  5.923830 -3.893832 -2.499188   \n",
       "4 -0.573022 -0.162968 -0.691478  ... -0.466919  5.475880 -0.561973 -0.500953   \n",
       "\n",
       "        209       210       211       212       213       214  \n",
       "0 -0.075812 -0.144388 -1.090303 -2.109324  0.178104  0.246541  \n",
       "1 -0.168138 -0.004905  0.189294 -0.283593  0.255972 -0.121134  \n",
       "2 -0.240413  0.476633 -1.367465 -2.525695 -0.137880 -0.451282  \n",
       "3  0.632758  0.025639 -1.189180 -3.056863  0.025997 -0.465205  \n",
       "4 -0.261494  0.358679 -0.951686 -3.247388 -0.151424 -0.145426  \n",
       "\n",
       "[5 rows x 214 columns]"
      ]
     },
     "execution_count": 17,
     "metadata": {},
     "output_type": "execute_result"
    }
   ],
   "source": [
    "# Remove model_id column (first column)\n",
    "first_column = rppa.columns[0]\n",
    "rppa = rppa.drop([first_column], axis=1)\n",
    "rppa.head()"
   ]
  },
  {
   "cell_type": "code",
   "execution_count": 18,
   "metadata": {
    "execution": {
     "iopub.execute_input": "2021-01-16T14:10:01.029163Z",
     "iopub.status.busy": "2021-01-16T14:10:01.028501Z",
     "iopub.status.idle": "2021-01-16T14:10:01.035380Z",
     "shell.execute_reply": "2021-01-16T14:10:01.034702Z"
    },
    "papermill": {
     "duration": 0.04909,
     "end_time": "2021-01-16T14:10:01.035494",
     "exception": false,
     "start_time": "2021-01-16T14:10:00.986404",
     "status": "completed"
    },
    "tags": []
   },
   "outputs": [
    {
     "name": "stdout",
     "output_type": "stream",
     "text": [
      "(889, 214)\n"
     ]
    }
   ],
   "source": [
    "X = rppa.iloc [:,0:214].values\n",
    "print(X.shape)"
   ]
  },
  {
   "cell_type": "code",
   "execution_count": 19,
   "metadata": {
    "execution": {
     "iopub.execute_input": "2021-01-16T14:10:01.124202Z",
     "iopub.status.busy": "2021-01-16T14:10:01.123484Z",
     "iopub.status.idle": "2021-01-16T14:10:01.211514Z",
     "shell.execute_reply": "2021-01-16T14:10:01.210879Z"
    },
    "papermill": {
     "duration": 0.134884,
     "end_time": "2021-01-16T14:10:01.211637",
     "exception": false,
     "start_time": "2021-01-16T14:10:01.076753",
     "status": "completed"
    },
    "tags": []
   },
   "outputs": [],
   "source": [
    "# Standardize the feature matrix\n",
    "X = StandardScaler().fit_transform(X)\n",
    "\n",
    "# Make sparse matrix\n",
    "X_sparse = csr_matrix(X)\n",
    "X_sparse.shape\n",
    "\n",
    "# Create and run an TSVD with one less than number of features\n",
    "tsvd = TruncatedSVD(n_components=X_sparse.shape[1]-1)\n",
    "X_tsvd = tsvd.fit(X)\n",
    "\n",
    "# List of explained variances\n",
    "tsvd_var_ratios = tsvd.explained_variance_ratio_\n"
   ]
  },
  {
   "cell_type": "code",
   "execution_count": 20,
   "metadata": {
    "execution": {
     "iopub.execute_input": "2021-01-16T14:10:01.303080Z",
     "iopub.status.busy": "2021-01-16T14:10:01.302012Z",
     "iopub.status.idle": "2021-01-16T14:10:01.305430Z",
     "shell.execute_reply": "2021-01-16T14:10:01.304778Z"
    },
    "papermill": {
     "duration": 0.050035,
     "end_time": "2021-01-16T14:10:01.305542",
     "exception": false,
     "start_time": "2021-01-16T14:10:01.255507",
     "status": "completed"
    },
    "tags": []
   },
   "outputs": [],
   "source": [
    "# Create a function\n",
    "def select_n_components(var_ratio, goal_var: float) -> int:\n",
    "    # Set initial variance explained so far\n",
    "    total_variance = 0.0\n",
    "    \n",
    "    # Set initial number of features\n",
    "    n_components = 0\n",
    "    \n",
    "    # For the explained variance of each feature:\n",
    "    for explained_variance in var_ratio:\n",
    "        \n",
    "        # Add the explained variance to the total\n",
    "        total_variance += explained_variance\n",
    "        \n",
    "        # Add one to the number of components\n",
    "        n_components += 1\n",
    "        \n",
    "        # If we reach our goal level of explained variance\n",
    "        if total_variance >= goal_var:\n",
    "            # End the loop\n",
    "            break\n",
    "            \n",
    "    # Return the number of components\n",
    "    return n_components"
   ]
  },
  {
   "cell_type": "code",
   "execution_count": 21,
   "metadata": {
    "execution": {
     "iopub.execute_input": "2021-01-16T14:10:01.390011Z",
     "iopub.status.busy": "2021-01-16T14:10:01.388960Z",
     "iopub.status.idle": "2021-01-16T14:10:01.393530Z",
     "shell.execute_reply": "2021-01-16T14:10:01.392950Z"
    },
    "papermill": {
     "duration": 0.048658,
     "end_time": "2021-01-16T14:10:01.393637",
     "exception": false,
     "start_time": "2021-01-16T14:10:01.344979",
     "status": "completed"
    },
    "tags": []
   },
   "outputs": [
    {
     "data": {
      "text/plain": [
       "101"
      ]
     },
     "execution_count": 21,
     "metadata": {},
     "output_type": "execute_result"
    }
   ],
   "source": [
    "# Run function\n",
    "select_n_components(tsvd_var_ratios, 0.90)"
   ]
  },
  {
   "cell_type": "code",
   "execution_count": 22,
   "metadata": {
    "execution": {
     "iopub.execute_input": "2021-01-16T14:10:01.480955Z",
     "iopub.status.busy": "2021-01-16T14:10:01.479913Z",
     "iopub.status.idle": "2021-01-16T14:10:01.634610Z",
     "shell.execute_reply": "2021-01-16T14:10:01.635123Z"
    },
    "papermill": {
     "duration": 0.201667,
     "end_time": "2021-01-16T14:10:01.635260",
     "exception": false,
     "start_time": "2021-01-16T14:10:01.433593",
     "status": "completed"
    },
    "tags": []
   },
   "outputs": [
    {
     "name": "stdout",
     "output_type": "stream",
     "text": [
      "Original number of features: 214\n",
      "Reduced number of features: 101\n"
     ]
    }
   ],
   "source": [
    "# Create a TSVD\n",
    "tsvd = TruncatedSVD(n_components=101)\n",
    "# Conduct TSVD on sparse matrix\n",
    "X_sparse_tsvd = tsvd.fit(X_sparse).transform(X_sparse)\n",
    "\n",
    "# Show results\n",
    "print('Original number of features:', X_sparse.shape[1])\n",
    "print('Reduced number of features:', X_sparse_tsvd.shape[1])\n"
   ]
  },
  {
   "cell_type": "code",
   "execution_count": 23,
   "metadata": {
    "execution": {
     "iopub.execute_input": "2021-01-16T14:10:01.723704Z",
     "iopub.status.busy": "2021-01-16T14:10:01.722719Z",
     "iopub.status.idle": "2021-01-16T14:10:01.985539Z",
     "shell.execute_reply": "2021-01-16T14:10:01.986038Z"
    },
    "papermill": {
     "duration": 0.310492,
     "end_time": "2021-01-16T14:10:01.986185",
     "exception": false,
     "start_time": "2021-01-16T14:10:01.675693",
     "status": "completed"
    },
    "tags": []
   },
   "outputs": [
    {
     "name": "stdout",
     "output_type": "stream",
     "text": [
      "[[ 1.93489036 -0.63607047  2.48654503 ... -1.20480197 -1.49032602\n",
      "   0.93525746]\n",
      " [-6.54327181 11.26118995  5.82239339 ... -1.19687787 -0.32457657\n",
      "  -0.36389042]\n",
      " [ 7.3078695  -1.75885832 -2.48143792 ...  0.09514057  0.61065469\n",
      "   1.2254688 ]\n",
      " ...\n",
      " [-3.3774837   2.55207071 -4.92769087 ...  0.62715467  1.16583141\n",
      "   0.02082623]\n",
      " [-2.532423   -4.51757082 -5.27967175 ...  0.47856657  0.01211702\n",
      "  -0.55807665]\n",
      " [-3.36059805 -4.06848134  4.14527287 ... -0.94254849  1.73038\n",
      "   1.04238303]]\n"
     ]
    }
   ],
   "source": [
    "print(X_sparse_tsvd)\n",
    "pd.DataFrame(X_sparse_tsvd).to_csv(\"./RPPA_SVD.csv\", header=None, index=None)"
   ]
  },
  {
   "cell_type": "markdown",
   "metadata": {
    "papermill": {
     "duration": 0.040528,
     "end_time": "2021-01-16T14:10:02.068298",
     "exception": false,
     "start_time": "2021-01-16T14:10:02.027770",
     "status": "completed"
    },
    "tags": []
   },
   "source": [
    "Expression"
   ]
  },
  {
   "cell_type": "code",
   "execution_count": 24,
   "metadata": {
    "execution": {
     "iopub.execute_input": "2021-01-16T14:10:02.154764Z",
     "iopub.status.busy": "2021-01-16T14:10:02.154099Z",
     "iopub.status.idle": "2021-01-16T14:10:29.290310Z",
     "shell.execute_reply": "2021-01-16T14:10:29.291277Z"
    },
    "papermill": {
     "duration": 27.181764,
     "end_time": "2021-01-16T14:10:29.291502",
     "exception": false,
     "start_time": "2021-01-16T14:10:02.109738",
     "status": "completed"
    },
    "tags": []
   },
   "outputs": [
    {
     "name": "stdout",
     "output_type": "stream",
     "text": [
      "(1257, 17360)\n"
     ]
    },
    {
     "data": {
      "text/html": [
       "<div>\n",
       "<style scoped>\n",
       "    .dataframe tbody tr th:only-of-type {\n",
       "        vertical-align: middle;\n",
       "    }\n",
       "\n",
       "    .dataframe tbody tr th {\n",
       "        vertical-align: top;\n",
       "    }\n",
       "\n",
       "    .dataframe thead th {\n",
       "        text-align: right;\n",
       "    }\n",
       "</style>\n",
       "<table border=\"1\" class=\"dataframe\">\n",
       "  <thead>\n",
       "    <tr style=\"text-align: right;\">\n",
       "      <th></th>\n",
       "      <th>0</th>\n",
       "      <th>1</th>\n",
       "      <th>2</th>\n",
       "      <th>3</th>\n",
       "      <th>4</th>\n",
       "      <th>5</th>\n",
       "      <th>6</th>\n",
       "      <th>7</th>\n",
       "      <th>8</th>\n",
       "      <th>9</th>\n",
       "      <th>...</th>\n",
       "      <th>17350</th>\n",
       "      <th>17351</th>\n",
       "      <th>17352</th>\n",
       "      <th>17353</th>\n",
       "      <th>17354</th>\n",
       "      <th>17355</th>\n",
       "      <th>17356</th>\n",
       "      <th>17357</th>\n",
       "      <th>17358</th>\n",
       "      <th>17359</th>\n",
       "    </tr>\n",
       "  </thead>\n",
       "  <tbody>\n",
       "    <tr>\n",
       "      <th>0</th>\n",
       "      <td>SIDM01737</td>\n",
       "      <td>0.000000</td>\n",
       "      <td>0.0</td>\n",
       "      <td>4.667324</td>\n",
       "      <td>1.761285</td>\n",
       "      <td>3.554589</td>\n",
       "      <td>4.358959</td>\n",
       "      <td>0.641546</td>\n",
       "      <td>2.201634</td>\n",
       "      <td>1.941106</td>\n",
       "      <td>...</td>\n",
       "      <td>0.000000</td>\n",
       "      <td>0.0</td>\n",
       "      <td>1.565597</td>\n",
       "      <td>0.0</td>\n",
       "      <td>0.0</td>\n",
       "      <td>0.0</td>\n",
       "      <td>0.0</td>\n",
       "      <td>0.0</td>\n",
       "      <td>5.132988</td>\n",
       "      <td>0.443607</td>\n",
       "    </tr>\n",
       "    <tr>\n",
       "      <th>1</th>\n",
       "      <td>SIDM01094</td>\n",
       "      <td>0.000000</td>\n",
       "      <td>0.0</td>\n",
       "      <td>6.198887</td>\n",
       "      <td>2.032101</td>\n",
       "      <td>3.755956</td>\n",
       "      <td>2.601697</td>\n",
       "      <td>0.000000</td>\n",
       "      <td>0.000000</td>\n",
       "      <td>3.415488</td>\n",
       "      <td>...</td>\n",
       "      <td>0.028569</td>\n",
       "      <td>0.0</td>\n",
       "      <td>1.778209</td>\n",
       "      <td>0.0</td>\n",
       "      <td>0.0</td>\n",
       "      <td>0.0</td>\n",
       "      <td>0.0</td>\n",
       "      <td>0.0</td>\n",
       "      <td>4.100978</td>\n",
       "      <td>2.589763</td>\n",
       "    </tr>\n",
       "    <tr>\n",
       "      <th>2</th>\n",
       "      <td>SIDM01795</td>\n",
       "      <td>4.934988</td>\n",
       "      <td>0.0</td>\n",
       "      <td>6.635464</td>\n",
       "      <td>1.929791</td>\n",
       "      <td>2.503349</td>\n",
       "      <td>0.000000</td>\n",
       "      <td>4.883621</td>\n",
       "      <td>6.772546</td>\n",
       "      <td>3.889474</td>\n",
       "      <td>...</td>\n",
       "      <td>0.000000</td>\n",
       "      <td>0.0</td>\n",
       "      <td>1.910733</td>\n",
       "      <td>0.0</td>\n",
       "      <td>0.0</td>\n",
       "      <td>0.0</td>\n",
       "      <td>0.0</td>\n",
       "      <td>0.0</td>\n",
       "      <td>4.288359</td>\n",
       "      <td>0.475085</td>\n",
       "    </tr>\n",
       "    <tr>\n",
       "      <th>3</th>\n",
       "      <td>SIDM00413</td>\n",
       "      <td>0.839960</td>\n",
       "      <td>0.0</td>\n",
       "      <td>5.376082</td>\n",
       "      <td>2.687061</td>\n",
       "      <td>4.440288</td>\n",
       "      <td>4.938286</td>\n",
       "      <td>0.536053</td>\n",
       "      <td>3.584963</td>\n",
       "      <td>2.935460</td>\n",
       "      <td>...</td>\n",
       "      <td>0.659925</td>\n",
       "      <td>0.0</td>\n",
       "      <td>2.653060</td>\n",
       "      <td>0.0</td>\n",
       "      <td>0.0</td>\n",
       "      <td>0.0</td>\n",
       "      <td>0.0</td>\n",
       "      <td>0.0</td>\n",
       "      <td>4.841470</td>\n",
       "      <td>3.904966</td>\n",
       "    </tr>\n",
       "    <tr>\n",
       "      <th>4</th>\n",
       "      <td>SIDM00859</td>\n",
       "      <td>1.744161</td>\n",
       "      <td>0.0</td>\n",
       "      <td>6.846744</td>\n",
       "      <td>2.147307</td>\n",
       "      <td>3.666757</td>\n",
       "      <td>5.252098</td>\n",
       "      <td>0.014355</td>\n",
       "      <td>1.641546</td>\n",
       "      <td>4.100978</td>\n",
       "      <td>...</td>\n",
       "      <td>0.084064</td>\n",
       "      <td>0.0</td>\n",
       "      <td>0.150560</td>\n",
       "      <td>0.0</td>\n",
       "      <td>0.0</td>\n",
       "      <td>0.0</td>\n",
       "      <td>0.0</td>\n",
       "      <td>0.0</td>\n",
       "      <td>4.187451</td>\n",
       "      <td>1.469886</td>\n",
       "    </tr>\n",
       "  </tbody>\n",
       "</table>\n",
       "<p>5 rows × 17360 columns</p>\n",
       "</div>"
      ],
      "text/plain": [
       "       0         1      2         3         4         5         6      \\\n",
       "0  SIDM01737  0.000000    0.0  4.667324  1.761285  3.554589  4.358959   \n",
       "1  SIDM01094  0.000000    0.0  6.198887  2.032101  3.755956  2.601697   \n",
       "2  SIDM01795  4.934988    0.0  6.635464  1.929791  2.503349  0.000000   \n",
       "3  SIDM00413  0.839960    0.0  5.376082  2.687061  4.440288  4.938286   \n",
       "4  SIDM00859  1.744161    0.0  6.846744  2.147307  3.666757  5.252098   \n",
       "\n",
       "      7         8         9      ...     17350  17351     17352  17353  17354  \\\n",
       "0  0.641546  2.201634  1.941106  ...  0.000000    0.0  1.565597    0.0    0.0   \n",
       "1  0.000000  0.000000  3.415488  ...  0.028569    0.0  1.778209    0.0    0.0   \n",
       "2  4.883621  6.772546  3.889474  ...  0.000000    0.0  1.910733    0.0    0.0   \n",
       "3  0.536053  3.584963  2.935460  ...  0.659925    0.0  2.653060    0.0    0.0   \n",
       "4  0.014355  1.641546  4.100978  ...  0.084064    0.0  0.150560    0.0    0.0   \n",
       "\n",
       "   17355  17356  17357     17358     17359  \n",
       "0    0.0    0.0    0.0  5.132988  0.443607  \n",
       "1    0.0    0.0    0.0  4.100978  2.589763  \n",
       "2    0.0    0.0    0.0  4.288359  0.475085  \n",
       "3    0.0    0.0    0.0  4.841470  3.904966  \n",
       "4    0.0    0.0    0.0  4.187451  1.469886  \n",
       "\n",
       "[5 rows x 17360 columns]"
      ]
     },
     "execution_count": 24,
     "metadata": {},
     "output_type": "execute_result"
    }
   ],
   "source": [
    "Expression_original = pd.read_csv(\"../input/matrix-expression-pca/matrix_expression_pca.csv\",header=None)\n",
    "expression = Expression_original.copy()\n",
    "print(expression.shape)\n",
    "expression.head()"
   ]
  },
  {
   "cell_type": "code",
   "execution_count": 25,
   "metadata": {
    "execution": {
     "iopub.execute_input": "2021-01-16T14:10:29.387437Z",
     "iopub.status.busy": "2021-01-16T14:10:29.386381Z",
     "iopub.status.idle": "2021-01-16T14:10:29.481105Z",
     "shell.execute_reply": "2021-01-16T14:10:29.481728Z"
    },
    "papermill": {
     "duration": 0.143699,
     "end_time": "2021-01-16T14:10:29.481875",
     "exception": false,
     "start_time": "2021-01-16T14:10:29.338176",
     "status": "completed"
    },
    "tags": []
   },
   "outputs": [
    {
     "data": {
      "text/html": [
       "<div>\n",
       "<style scoped>\n",
       "    .dataframe tbody tr th:only-of-type {\n",
       "        vertical-align: middle;\n",
       "    }\n",
       "\n",
       "    .dataframe tbody tr th {\n",
       "        vertical-align: top;\n",
       "    }\n",
       "\n",
       "    .dataframe thead th {\n",
       "        text-align: right;\n",
       "    }\n",
       "</style>\n",
       "<table border=\"1\" class=\"dataframe\">\n",
       "  <thead>\n",
       "    <tr style=\"text-align: right;\">\n",
       "      <th></th>\n",
       "      <th>1</th>\n",
       "      <th>2</th>\n",
       "      <th>3</th>\n",
       "      <th>4</th>\n",
       "      <th>5</th>\n",
       "      <th>6</th>\n",
       "      <th>7</th>\n",
       "      <th>8</th>\n",
       "      <th>9</th>\n",
       "      <th>10</th>\n",
       "      <th>...</th>\n",
       "      <th>17350</th>\n",
       "      <th>17351</th>\n",
       "      <th>17352</th>\n",
       "      <th>17353</th>\n",
       "      <th>17354</th>\n",
       "      <th>17355</th>\n",
       "      <th>17356</th>\n",
       "      <th>17357</th>\n",
       "      <th>17358</th>\n",
       "      <th>17359</th>\n",
       "    </tr>\n",
       "  </thead>\n",
       "  <tbody>\n",
       "    <tr>\n",
       "      <th>0</th>\n",
       "      <td>0.000000</td>\n",
       "      <td>0.0</td>\n",
       "      <td>4.667324</td>\n",
       "      <td>1.761285</td>\n",
       "      <td>3.554589</td>\n",
       "      <td>4.358959</td>\n",
       "      <td>0.641546</td>\n",
       "      <td>2.201634</td>\n",
       "      <td>1.941106</td>\n",
       "      <td>2.150560</td>\n",
       "      <td>...</td>\n",
       "      <td>0.000000</td>\n",
       "      <td>0.0</td>\n",
       "      <td>1.565597</td>\n",
       "      <td>0.0</td>\n",
       "      <td>0.0</td>\n",
       "      <td>0.0</td>\n",
       "      <td>0.0</td>\n",
       "      <td>0.0</td>\n",
       "      <td>5.132988</td>\n",
       "      <td>0.443607</td>\n",
       "    </tr>\n",
       "    <tr>\n",
       "      <th>1</th>\n",
       "      <td>0.000000</td>\n",
       "      <td>0.0</td>\n",
       "      <td>6.198887</td>\n",
       "      <td>2.032101</td>\n",
       "      <td>3.755956</td>\n",
       "      <td>2.601697</td>\n",
       "      <td>0.000000</td>\n",
       "      <td>0.000000</td>\n",
       "      <td>3.415488</td>\n",
       "      <td>3.620586</td>\n",
       "      <td>...</td>\n",
       "      <td>0.028569</td>\n",
       "      <td>0.0</td>\n",
       "      <td>1.778209</td>\n",
       "      <td>0.0</td>\n",
       "      <td>0.0</td>\n",
       "      <td>0.0</td>\n",
       "      <td>0.0</td>\n",
       "      <td>0.0</td>\n",
       "      <td>4.100978</td>\n",
       "      <td>2.589763</td>\n",
       "    </tr>\n",
       "    <tr>\n",
       "      <th>2</th>\n",
       "      <td>4.934988</td>\n",
       "      <td>0.0</td>\n",
       "      <td>6.635464</td>\n",
       "      <td>1.929791</td>\n",
       "      <td>2.503349</td>\n",
       "      <td>0.000000</td>\n",
       "      <td>4.883621</td>\n",
       "      <td>6.772546</td>\n",
       "      <td>3.889474</td>\n",
       "      <td>4.139961</td>\n",
       "      <td>...</td>\n",
       "      <td>0.000000</td>\n",
       "      <td>0.0</td>\n",
       "      <td>1.910733</td>\n",
       "      <td>0.0</td>\n",
       "      <td>0.0</td>\n",
       "      <td>0.0</td>\n",
       "      <td>0.0</td>\n",
       "      <td>0.0</td>\n",
       "      <td>4.288359</td>\n",
       "      <td>0.475085</td>\n",
       "    </tr>\n",
       "    <tr>\n",
       "      <th>3</th>\n",
       "      <td>0.839960</td>\n",
       "      <td>0.0</td>\n",
       "      <td>5.376082</td>\n",
       "      <td>2.687061</td>\n",
       "      <td>4.440288</td>\n",
       "      <td>4.938286</td>\n",
       "      <td>0.536053</td>\n",
       "      <td>3.584963</td>\n",
       "      <td>2.935460</td>\n",
       "      <td>3.157044</td>\n",
       "      <td>...</td>\n",
       "      <td>0.659925</td>\n",
       "      <td>0.0</td>\n",
       "      <td>2.653060</td>\n",
       "      <td>0.0</td>\n",
       "      <td>0.0</td>\n",
       "      <td>0.0</td>\n",
       "      <td>0.0</td>\n",
       "      <td>0.0</td>\n",
       "      <td>4.841470</td>\n",
       "      <td>3.904966</td>\n",
       "    </tr>\n",
       "    <tr>\n",
       "      <th>4</th>\n",
       "      <td>1.744161</td>\n",
       "      <td>0.0</td>\n",
       "      <td>6.846744</td>\n",
       "      <td>2.147307</td>\n",
       "      <td>3.666757</td>\n",
       "      <td>5.252098</td>\n",
       "      <td>0.014355</td>\n",
       "      <td>1.641546</td>\n",
       "      <td>4.100978</td>\n",
       "      <td>4.246408</td>\n",
       "      <td>...</td>\n",
       "      <td>0.084064</td>\n",
       "      <td>0.0</td>\n",
       "      <td>0.150560</td>\n",
       "      <td>0.0</td>\n",
       "      <td>0.0</td>\n",
       "      <td>0.0</td>\n",
       "      <td>0.0</td>\n",
       "      <td>0.0</td>\n",
       "      <td>4.187451</td>\n",
       "      <td>1.469886</td>\n",
       "    </tr>\n",
       "  </tbody>\n",
       "</table>\n",
       "<p>5 rows × 17359 columns</p>\n",
       "</div>"
      ],
      "text/plain": [
       "      1      2         3         4         5         6         7      \\\n",
       "0  0.000000    0.0  4.667324  1.761285  3.554589  4.358959  0.641546   \n",
       "1  0.000000    0.0  6.198887  2.032101  3.755956  2.601697  0.000000   \n",
       "2  4.934988    0.0  6.635464  1.929791  2.503349  0.000000  4.883621   \n",
       "3  0.839960    0.0  5.376082  2.687061  4.440288  4.938286  0.536053   \n",
       "4  1.744161    0.0  6.846744  2.147307  3.666757  5.252098  0.014355   \n",
       "\n",
       "      8         9         10     ...     17350  17351     17352  17353  17354  \\\n",
       "0  2.201634  1.941106  2.150560  ...  0.000000    0.0  1.565597    0.0    0.0   \n",
       "1  0.000000  3.415488  3.620586  ...  0.028569    0.0  1.778209    0.0    0.0   \n",
       "2  6.772546  3.889474  4.139961  ...  0.000000    0.0  1.910733    0.0    0.0   \n",
       "3  3.584963  2.935460  3.157044  ...  0.659925    0.0  2.653060    0.0    0.0   \n",
       "4  1.641546  4.100978  4.246408  ...  0.084064    0.0  0.150560    0.0    0.0   \n",
       "\n",
       "   17355  17356  17357     17358     17359  \n",
       "0    0.0    0.0    0.0  5.132988  0.443607  \n",
       "1    0.0    0.0    0.0  4.100978  2.589763  \n",
       "2    0.0    0.0    0.0  4.288359  0.475085  \n",
       "3    0.0    0.0    0.0  4.841470  3.904966  \n",
       "4    0.0    0.0    0.0  4.187451  1.469886  \n",
       "\n",
       "[5 rows x 17359 columns]"
      ]
     },
     "execution_count": 25,
     "metadata": {},
     "output_type": "execute_result"
    }
   ],
   "source": [
    "# Remove model_id column (first column)\n",
    "first_column = expression.columns[0]\n",
    "expression = expression.drop([first_column], axis=1)\n",
    "expression.head()"
   ]
  },
  {
   "cell_type": "code",
   "execution_count": 26,
   "metadata": {
    "execution": {
     "iopub.execute_input": "2021-01-16T14:10:29.574392Z",
     "iopub.status.busy": "2021-01-16T14:10:29.573592Z",
     "iopub.status.idle": "2021-01-16T14:10:29.577225Z",
     "shell.execute_reply": "2021-01-16T14:10:29.577777Z"
    },
    "papermill": {
     "duration": 0.052993,
     "end_time": "2021-01-16T14:10:29.577962",
     "exception": false,
     "start_time": "2021-01-16T14:10:29.524969",
     "status": "completed"
    },
    "tags": []
   },
   "outputs": [
    {
     "name": "stdout",
     "output_type": "stream",
     "text": [
      "(1257, 17359)\n"
     ]
    }
   ],
   "source": [
    "X = expression.iloc [:,0:17359].values\n",
    "print(X.shape)"
   ]
  },
  {
   "cell_type": "code",
   "execution_count": 27,
   "metadata": {
    "execution": {
     "iopub.execute_input": "2021-01-16T14:10:29.674176Z",
     "iopub.status.busy": "2021-01-16T14:10:29.673476Z",
     "iopub.status.idle": "2021-01-16T14:12:22.618177Z",
     "shell.execute_reply": "2021-01-16T14:12:22.617452Z"
    },
    "papermill": {
     "duration": 112.993844,
     "end_time": "2021-01-16T14:12:22.618303",
     "exception": false,
     "start_time": "2021-01-16T14:10:29.624459",
     "status": "completed"
    },
    "tags": []
   },
   "outputs": [],
   "source": [
    "# Standardize the feature matrix\n",
    "X = StandardScaler().fit_transform(X)\n",
    "\n",
    "# Make sparse matrix\n",
    "X_sparse = csr_matrix(X)\n",
    "X_sparse.shape\n",
    "\n",
    "# Create and run an TSVD with one less than number of features\n",
    "tsvd = TruncatedSVD(n_components=X_sparse.shape[1]-1)\n",
    "X_tsvd = tsvd.fit(X)\n",
    "\n",
    "# List of explained variances\n",
    "tsvd_var_ratios = tsvd.explained_variance_ratio_\n"
   ]
  },
  {
   "cell_type": "code",
   "execution_count": 28,
   "metadata": {
    "execution": {
     "iopub.execute_input": "2021-01-16T14:12:22.713501Z",
     "iopub.status.busy": "2021-01-16T14:12:22.712782Z",
     "iopub.status.idle": "2021-01-16T14:12:22.715815Z",
     "shell.execute_reply": "2021-01-16T14:12:22.715267Z"
    },
    "papermill": {
     "duration": 0.053451,
     "end_time": "2021-01-16T14:12:22.715920",
     "exception": false,
     "start_time": "2021-01-16T14:12:22.662469",
     "status": "completed"
    },
    "tags": []
   },
   "outputs": [],
   "source": [
    "# Create a function\n",
    "def select_n_components(var_ratio, goal_var: float) -> int:\n",
    "    # Set initial variance explained so far\n",
    "    total_variance = 0.0\n",
    "    \n",
    "    # Set initial number of features\n",
    "    n_components = 0\n",
    "    \n",
    "    # For the explained variance of each feature:\n",
    "    for explained_variance in var_ratio:\n",
    "        \n",
    "        # Add the explained variance to the total\n",
    "        total_variance += explained_variance\n",
    "        \n",
    "        # Add one to the number of components\n",
    "        n_components += 1\n",
    "        \n",
    "        # If we reach our goal level of explained variance\n",
    "        if total_variance >= goal_var:\n",
    "            # End the loop\n",
    "            break\n",
    "            \n",
    "    # Return the number of components\n",
    "    return n_components"
   ]
  },
  {
   "cell_type": "code",
   "execution_count": 29,
   "metadata": {
    "execution": {
     "iopub.execute_input": "2021-01-16T14:12:22.810900Z",
     "iopub.status.busy": "2021-01-16T14:12:22.810207Z",
     "iopub.status.idle": "2021-01-16T14:12:22.816505Z",
     "shell.execute_reply": "2021-01-16T14:12:22.815876Z"
    },
    "papermill": {
     "duration": 0.055684,
     "end_time": "2021-01-16T14:12:22.816627",
     "exception": false,
     "start_time": "2021-01-16T14:12:22.760943",
     "status": "completed"
    },
    "tags": []
   },
   "outputs": [
    {
     "data": {
      "text/plain": [
       "616"
      ]
     },
     "execution_count": 29,
     "metadata": {},
     "output_type": "execute_result"
    }
   ],
   "source": [
    "# Run function\n",
    "select_n_components(tsvd_var_ratios, 0.90)"
   ]
  },
  {
   "cell_type": "code",
   "execution_count": 30,
   "metadata": {
    "execution": {
     "iopub.execute_input": "2021-01-16T14:12:22.913205Z",
     "iopub.status.busy": "2021-01-16T14:12:22.912250Z",
     "iopub.status.idle": "2021-01-16T14:16:05.930208Z",
     "shell.execute_reply": "2021-01-16T14:16:05.931003Z"
    },
    "papermill": {
     "duration": 223.067798,
     "end_time": "2021-01-16T14:16:05.931212",
     "exception": false,
     "start_time": "2021-01-16T14:12:22.863414",
     "status": "completed"
    },
    "tags": []
   },
   "outputs": [
    {
     "name": "stdout",
     "output_type": "stream",
     "text": [
      "Original number of features: 17359\n",
      "Reduced number of features: 616\n"
     ]
    }
   ],
   "source": [
    "# Create a TSVD\n",
    "tsvd = TruncatedSVD(n_components=616)\n",
    "# Conduct TSVD on sparse matrix\n",
    "X_sparse_tsvd = tsvd.fit(X_sparse).transform(X_sparse)\n",
    "\n",
    "# Show results\n",
    "print('Original number of features:', X_sparse.shape[1])\n",
    "print('Reduced number of features:', X_sparse_tsvd.shape[1])"
   ]
  },
  {
   "cell_type": "code",
   "execution_count": 31,
   "metadata": {
    "execution": {
     "iopub.execute_input": "2021-01-16T14:16:06.031897Z",
     "iopub.status.busy": "2021-01-16T14:16:06.031164Z",
     "iopub.status.idle": "2021-01-16T14:16:07.893970Z",
     "shell.execute_reply": "2021-01-16T14:16:07.893415Z"
    },
    "papermill": {
     "duration": 1.915563,
     "end_time": "2021-01-16T14:16:07.894087",
     "exception": false,
     "start_time": "2021-01-16T14:16:05.978524",
     "status": "completed"
    },
    "tags": []
   },
   "outputs": [
    {
     "name": "stdout",
     "output_type": "stream",
     "text": [
      "[[ 1.25843839e+02  8.22311661e+01 -2.85411605e+01 ...  1.63788030e+00\n",
      "  -7.24485298e-01 -1.52130041e+00]\n",
      " [ 5.14220666e+01  9.08408766e+01 -2.34153247e+01 ... -1.48923063e+00\n",
      "  -4.96127451e+00  3.51231935e+00]\n",
      " [ 2.90163212e+01 -4.14287771e+01 -6.53567404e+01 ...  1.16756826e+00\n",
      "   2.60057818e+00  5.19165980e-02]\n",
      " ...\n",
      " [ 1.55948097e+01 -3.15587029e+01  4.70192124e+01 ... -7.56764786e-01\n",
      "   3.16885664e-01  5.81653442e-01]\n",
      " [ 1.19053654e+01 -9.26000092e+00  4.92536325e+01 ...  3.19834613e-01\n",
      "  -4.25730854e+00 -5.62884817e-01]\n",
      " [-5.43120887e+01  6.80938234e+00 -1.06458036e+01 ...  2.55950742e+00\n",
      "  -5.39609070e+00 -3.29187396e+00]]\n"
     ]
    }
   ],
   "source": [
    "print(X_sparse_tsvd)\n",
    "pd.DataFrame(X_sparse_tsvd).to_csv(\"./Exp_SVD.csv\", header=None, index=None)"
   ]
  },
  {
   "cell_type": "markdown",
   "metadata": {
    "papermill": {
     "duration": 0.0447,
     "end_time": "2021-01-16T14:16:07.984228",
     "exception": false,
     "start_time": "2021-01-16T14:16:07.939528",
     "status": "completed"
    },
    "tags": []
   },
   "source": [
    "Mutations"
   ]
  },
  {
   "cell_type": "code",
   "execution_count": 32,
   "metadata": {
    "execution": {
     "iopub.execute_input": "2021-01-16T14:16:08.085586Z",
     "iopub.status.busy": "2021-01-16T14:16:08.084931Z",
     "iopub.status.idle": "2021-01-16T14:16:27.538378Z",
     "shell.execute_reply": "2021-01-16T14:16:27.537825Z"
    },
    "papermill": {
     "duration": 19.508525,
     "end_time": "2021-01-16T14:16:27.538493",
     "exception": false,
     "start_time": "2021-01-16T14:16:08.029968",
     "status": "completed"
    },
    "tags": []
   },
   "outputs": [
    {
     "name": "stdout",
     "output_type": "stream",
     "text": [
      "(1645, 18771)\n"
     ]
    },
    {
     "data": {
      "text/html": [
       "<div>\n",
       "<style scoped>\n",
       "    .dataframe tbody tr th:only-of-type {\n",
       "        vertical-align: middle;\n",
       "    }\n",
       "\n",
       "    .dataframe tbody tr th {\n",
       "        vertical-align: top;\n",
       "    }\n",
       "\n",
       "    .dataframe thead th {\n",
       "        text-align: right;\n",
       "    }\n",
       "</style>\n",
       "<table border=\"1\" class=\"dataframe\">\n",
       "  <thead>\n",
       "    <tr style=\"text-align: right;\">\n",
       "      <th></th>\n",
       "      <th>0</th>\n",
       "      <th>1</th>\n",
       "      <th>2</th>\n",
       "      <th>3</th>\n",
       "      <th>4</th>\n",
       "      <th>5</th>\n",
       "      <th>6</th>\n",
       "      <th>7</th>\n",
       "      <th>8</th>\n",
       "      <th>9</th>\n",
       "      <th>...</th>\n",
       "      <th>18761</th>\n",
       "      <th>18762</th>\n",
       "      <th>18763</th>\n",
       "      <th>18764</th>\n",
       "      <th>18765</th>\n",
       "      <th>18766</th>\n",
       "      <th>18767</th>\n",
       "      <th>18768</th>\n",
       "      <th>18769</th>\n",
       "      <th>18770</th>\n",
       "    </tr>\n",
       "  </thead>\n",
       "  <tbody>\n",
       "    <tr>\n",
       "      <th>0</th>\n",
       "      <td>0</td>\n",
       "      <td>0</td>\n",
       "      <td>0</td>\n",
       "      <td>0</td>\n",
       "      <td>0</td>\n",
       "      <td>0</td>\n",
       "      <td>0</td>\n",
       "      <td>0</td>\n",
       "      <td>0</td>\n",
       "      <td>0</td>\n",
       "      <td>...</td>\n",
       "      <td>0</td>\n",
       "      <td>0</td>\n",
       "      <td>0</td>\n",
       "      <td>0</td>\n",
       "      <td>0</td>\n",
       "      <td>0</td>\n",
       "      <td>0</td>\n",
       "      <td>0</td>\n",
       "      <td>0</td>\n",
       "      <td>0</td>\n",
       "    </tr>\n",
       "    <tr>\n",
       "      <th>1</th>\n",
       "      <td>0</td>\n",
       "      <td>0</td>\n",
       "      <td>0</td>\n",
       "      <td>0</td>\n",
       "      <td>0</td>\n",
       "      <td>0</td>\n",
       "      <td>0</td>\n",
       "      <td>0</td>\n",
       "      <td>0</td>\n",
       "      <td>0</td>\n",
       "      <td>...</td>\n",
       "      <td>0</td>\n",
       "      <td>0</td>\n",
       "      <td>0</td>\n",
       "      <td>0</td>\n",
       "      <td>0</td>\n",
       "      <td>0</td>\n",
       "      <td>0</td>\n",
       "      <td>0</td>\n",
       "      <td>0</td>\n",
       "      <td>0</td>\n",
       "    </tr>\n",
       "    <tr>\n",
       "      <th>2</th>\n",
       "      <td>0</td>\n",
       "      <td>0</td>\n",
       "      <td>0</td>\n",
       "      <td>0</td>\n",
       "      <td>0</td>\n",
       "      <td>0</td>\n",
       "      <td>0</td>\n",
       "      <td>0</td>\n",
       "      <td>1</td>\n",
       "      <td>0</td>\n",
       "      <td>...</td>\n",
       "      <td>0</td>\n",
       "      <td>0</td>\n",
       "      <td>0</td>\n",
       "      <td>0</td>\n",
       "      <td>0</td>\n",
       "      <td>0</td>\n",
       "      <td>0</td>\n",
       "      <td>0</td>\n",
       "      <td>0</td>\n",
       "      <td>0</td>\n",
       "    </tr>\n",
       "    <tr>\n",
       "      <th>3</th>\n",
       "      <td>0</td>\n",
       "      <td>0</td>\n",
       "      <td>0</td>\n",
       "      <td>0</td>\n",
       "      <td>0</td>\n",
       "      <td>0</td>\n",
       "      <td>0</td>\n",
       "      <td>0</td>\n",
       "      <td>0</td>\n",
       "      <td>0</td>\n",
       "      <td>...</td>\n",
       "      <td>0</td>\n",
       "      <td>0</td>\n",
       "      <td>0</td>\n",
       "      <td>0</td>\n",
       "      <td>0</td>\n",
       "      <td>0</td>\n",
       "      <td>0</td>\n",
       "      <td>0</td>\n",
       "      <td>0</td>\n",
       "      <td>0</td>\n",
       "    </tr>\n",
       "    <tr>\n",
       "      <th>4</th>\n",
       "      <td>0</td>\n",
       "      <td>0</td>\n",
       "      <td>0</td>\n",
       "      <td>0</td>\n",
       "      <td>0</td>\n",
       "      <td>0</td>\n",
       "      <td>0</td>\n",
       "      <td>0</td>\n",
       "      <td>0</td>\n",
       "      <td>0</td>\n",
       "      <td>...</td>\n",
       "      <td>0</td>\n",
       "      <td>0</td>\n",
       "      <td>0</td>\n",
       "      <td>0</td>\n",
       "      <td>0</td>\n",
       "      <td>0</td>\n",
       "      <td>0</td>\n",
       "      <td>0</td>\n",
       "      <td>0</td>\n",
       "      <td>0</td>\n",
       "    </tr>\n",
       "  </tbody>\n",
       "</table>\n",
       "<p>5 rows × 18771 columns</p>\n",
       "</div>"
      ],
      "text/plain": [
       "   0      1      2      3      4      5      6      7      8      9      ...  \\\n",
       "0      0      0      0      0      0      0      0      0      0      0  ...   \n",
       "1      0      0      0      0      0      0      0      0      0      0  ...   \n",
       "2      0      0      0      0      0      0      0      0      1      0  ...   \n",
       "3      0      0      0      0      0      0      0      0      0      0  ...   \n",
       "4      0      0      0      0      0      0      0      0      0      0  ...   \n",
       "\n",
       "   18761  18762  18763  18764  18765  18766  18767  18768  18769  18770  \n",
       "0      0      0      0      0      0      0      0      0      0      0  \n",
       "1      0      0      0      0      0      0      0      0      0      0  \n",
       "2      0      0      0      0      0      0      0      0      0      0  \n",
       "3      0      0      0      0      0      0      0      0      0      0  \n",
       "4      0      0      0      0      0      0      0      0      0      0  \n",
       "\n",
       "[5 rows x 18771 columns]"
      ]
     },
     "execution_count": 32,
     "metadata": {},
     "output_type": "execute_result"
    }
   ],
   "source": [
    "Mutations_original = pd.read_csv(\"../input/matrix-mutations-binary-pca/matrix_mutations_binary_pca (1).csv\",header=None)\n",
    "mutations = Mutations_original.copy()\n",
    "print(mutations.shape)\n",
    "mutations.head()"
   ]
  },
  {
   "cell_type": "code",
   "execution_count": 33,
   "metadata": {
    "execution": {
     "iopub.execute_input": "2021-01-16T14:16:27.639140Z",
     "iopub.status.busy": "2021-01-16T14:16:27.638543Z",
     "iopub.status.idle": "2021-01-16T14:16:27.643791Z",
     "shell.execute_reply": "2021-01-16T14:16:27.643131Z"
    },
    "papermill": {
     "duration": 0.059127,
     "end_time": "2021-01-16T14:16:27.643898",
     "exception": false,
     "start_time": "2021-01-16T14:16:27.584771",
     "status": "completed"
    },
    "tags": []
   },
   "outputs": [
    {
     "name": "stdout",
     "output_type": "stream",
     "text": [
      "(1645, 18770)\n"
     ]
    }
   ],
   "source": [
    "X = mutations.iloc [:,0:18770].values\n",
    "print(X.shape)"
   ]
  },
  {
   "cell_type": "code",
   "execution_count": 34,
   "metadata": {
    "execution": {
     "iopub.execute_input": "2021-01-16T14:16:27.741123Z",
     "iopub.status.busy": "2021-01-16T14:16:27.740533Z",
     "iopub.status.idle": "2021-01-16T14:19:24.349344Z",
     "shell.execute_reply": "2021-01-16T14:19:24.349849Z"
    },
    "papermill": {
     "duration": 176.659182,
     "end_time": "2021-01-16T14:19:24.350025",
     "exception": false,
     "start_time": "2021-01-16T14:16:27.690843",
     "status": "completed"
    },
    "tags": []
   },
   "outputs": [],
   "source": [
    "# Standardize the feature matrix\n",
    "X = StandardScaler().fit_transform(X)\n",
    "\n",
    "# Make sparse matrix\n",
    "X_sparse = csr_matrix(X)\n",
    "X_sparse.shape\n",
    "\n",
    "# Create and run an TSVD with one less than number of features\n",
    "tsvd = TruncatedSVD(n_components=X_sparse.shape[1]-1)\n",
    "X_tsvd = tsvd.fit(X)\n",
    "\n",
    "# List of explained variances\n",
    "tsvd_var_ratios = tsvd.explained_variance_ratio_\n"
   ]
  },
  {
   "cell_type": "code",
   "execution_count": 35,
   "metadata": {
    "execution": {
     "iopub.execute_input": "2021-01-16T14:19:24.449542Z",
     "iopub.status.busy": "2021-01-16T14:19:24.448457Z",
     "iopub.status.idle": "2021-01-16T14:19:24.454565Z",
     "shell.execute_reply": "2021-01-16T14:19:24.455022Z"
    },
    "papermill": {
     "duration": 0.057527,
     "end_time": "2021-01-16T14:19:24.455162",
     "exception": false,
     "start_time": "2021-01-16T14:19:24.397635",
     "status": "completed"
    },
    "tags": []
   },
   "outputs": [],
   "source": [
    "# Create a function\n",
    "def select_n_components(var_ratio, goal_var: float) -> int:\n",
    "    # Set initial variance explained so far\n",
    "    total_variance = 0.0\n",
    "    \n",
    "    # Set initial number of features\n",
    "    n_components = 0\n",
    "    \n",
    "    # For the explained variance of each feature:\n",
    "    for explained_variance in var_ratio:\n",
    "        \n",
    "        # Add the explained variance to the total\n",
    "        total_variance += explained_variance\n",
    "        \n",
    "        # Add one to the number of components\n",
    "        n_components += 1\n",
    "        \n",
    "        # If we reach our goal level of explained variance\n",
    "        if total_variance >= goal_var:\n",
    "            # End the loop\n",
    "            break\n",
    "            \n",
    "    # Return the number of components\n",
    "    return n_components"
   ]
  },
  {
   "cell_type": "code",
   "execution_count": 36,
   "metadata": {
    "execution": {
     "iopub.execute_input": "2021-01-16T14:19:24.553699Z",
     "iopub.status.busy": "2021-01-16T14:19:24.552739Z",
     "iopub.status.idle": "2021-01-16T14:19:24.558603Z",
     "shell.execute_reply": "2021-01-16T14:19:24.559160Z"
    },
    "papermill": {
     "duration": 0.056545,
     "end_time": "2021-01-16T14:19:24.559296",
     "exception": false,
     "start_time": "2021-01-16T14:19:24.502751",
     "status": "completed"
    },
    "tags": []
   },
   "outputs": [
    {
     "data": {
      "text/plain": [
       "1040"
      ]
     },
     "execution_count": 36,
     "metadata": {},
     "output_type": "execute_result"
    }
   ],
   "source": [
    "# Run function\n",
    "select_n_components(tsvd_var_ratios, 0.90)"
   ]
  },
  {
   "cell_type": "code",
   "execution_count": 37,
   "metadata": {
    "execution": {
     "iopub.execute_input": "2021-01-16T14:19:24.659139Z",
     "iopub.status.busy": "2021-01-16T14:19:24.658492Z",
     "iopub.status.idle": "2021-01-16T14:26:31.184607Z",
     "shell.execute_reply": "2021-01-16T14:26:31.185159Z"
    },
    "papermill": {
     "duration": 426.577485,
     "end_time": "2021-01-16T14:26:31.185349",
     "exception": false,
     "start_time": "2021-01-16T14:19:24.607864",
     "status": "completed"
    },
    "tags": []
   },
   "outputs": [
    {
     "name": "stdout",
     "output_type": "stream",
     "text": [
      "Original number of features: 18770\n",
      "Reduced number of features: 1040\n"
     ]
    }
   ],
   "source": [
    "# Create a TSVD\n",
    "tsvd = TruncatedSVD(n_components=1040)\n",
    "# Conduct TSVD on sparse matrix\n",
    "X_sparse_tsvd = tsvd.fit(X_sparse).transform(X_sparse)\n",
    "\n",
    "# Show results\n",
    "print('Original number of features:', X_sparse.shape[1])\n",
    "print('Reduced number of features:', X_sparse_tsvd.shape[1])"
   ]
  },
  {
   "cell_type": "code",
   "execution_count": 38,
   "metadata": {
    "execution": {
     "iopub.execute_input": "2021-01-16T14:26:31.299023Z",
     "iopub.status.busy": "2021-01-16T14:26:31.298350Z",
     "iopub.status.idle": "2021-01-16T14:26:35.487955Z",
     "shell.execute_reply": "2021-01-16T14:26:35.487266Z"
    },
    "papermill": {
     "duration": 4.254,
     "end_time": "2021-01-16T14:26:35.488071",
     "exception": false,
     "start_time": "2021-01-16T14:26:31.234071",
     "status": "completed"
    },
    "tags": []
   },
   "outputs": [
    {
     "name": "stdout",
     "output_type": "stream",
     "text": [
      "[[-12.3973047    1.69128159  -1.24658999 ...  -7.13238285  -5.2162088\n",
      "    4.01414629]\n",
      " [ -7.12091845  -0.6941931    1.12104465 ...  -2.68293242   0.55092746\n",
      "    2.32765661]\n",
      " [ 28.40315993 -17.29860345  13.90482712 ...   1.21967603   0.40968458\n",
      "    0.78673869]\n",
      " ...\n",
      " [ -0.74633983  -3.0610964    3.17883344 ...  -0.22753473  -0.61238674\n",
      "    1.1166836 ]\n",
      " [ -0.19153452  -2.98681331   3.23220884 ...  -0.7255335   -0.62125763\n",
      "    1.10239294]\n",
      " [ -0.22571059  -2.44484676   3.45539531 ...  -0.81538457  -0.72450466\n",
      "    0.30591315]]\n"
     ]
    }
   ],
   "source": [
    "print(X_sparse_tsvd)\n",
    "pd.DataFrame(X_sparse_tsvd).to_csv(\"./Mut_SVD.csv\", header=None, index=None)"
   ]
  },
  {
   "cell_type": "markdown",
   "metadata": {
    "papermill": {
     "duration": 0.049396,
     "end_time": "2021-01-16T14:26:35.587345",
     "exception": false,
     "start_time": "2021-01-16T14:26:35.537949",
     "status": "completed"
    },
    "tags": []
   },
   "source": [
    "miRNA"
   ]
  },
  {
   "cell_type": "code",
   "execution_count": 39,
   "metadata": {
    "execution": {
     "iopub.execute_input": "2021-01-16T14:26:35.694053Z",
     "iopub.status.busy": "2021-01-16T14:26:35.693409Z",
     "iopub.status.idle": "2021-01-16T14:26:35.967675Z",
     "shell.execute_reply": "2021-01-16T14:26:35.968181Z"
    },
    "papermill": {
     "duration": 0.332504,
     "end_time": "2021-01-16T14:26:35.968331",
     "exception": false,
     "start_time": "2021-01-16T14:26:35.635827",
     "status": "completed"
    },
    "tags": []
   },
   "outputs": [
    {
     "name": "stdout",
     "output_type": "stream",
     "text": [
      "(942, 735)\n"
     ]
    },
    {
     "data": {
      "text/html": [
       "<div>\n",
       "<style scoped>\n",
       "    .dataframe tbody tr th:only-of-type {\n",
       "        vertical-align: middle;\n",
       "    }\n",
       "\n",
       "    .dataframe tbody tr th {\n",
       "        vertical-align: top;\n",
       "    }\n",
       "\n",
       "    .dataframe thead th {\n",
       "        text-align: right;\n",
       "    }\n",
       "</style>\n",
       "<table border=\"1\" class=\"dataframe\">\n",
       "  <thead>\n",
       "    <tr style=\"text-align: right;\">\n",
       "      <th></th>\n",
       "      <th>0</th>\n",
       "      <th>1</th>\n",
       "      <th>2</th>\n",
       "      <th>3</th>\n",
       "      <th>4</th>\n",
       "      <th>5</th>\n",
       "      <th>6</th>\n",
       "      <th>7</th>\n",
       "      <th>8</th>\n",
       "      <th>9</th>\n",
       "      <th>...</th>\n",
       "      <th>725</th>\n",
       "      <th>726</th>\n",
       "      <th>727</th>\n",
       "      <th>728</th>\n",
       "      <th>729</th>\n",
       "      <th>730</th>\n",
       "      <th>731</th>\n",
       "      <th>732</th>\n",
       "      <th>733</th>\n",
       "      <th>734</th>\n",
       "    </tr>\n",
       "  </thead>\n",
       "  <tbody>\n",
       "    <tr>\n",
       "      <th>0</th>\n",
       "      <td>SIDM00523</td>\n",
       "      <td>4362.58</td>\n",
       "      <td>187.44</td>\n",
       "      <td>267.03</td>\n",
       "      <td>868.11</td>\n",
       "      <td>1.04</td>\n",
       "      <td>959.22</td>\n",
       "      <td>1638.85</td>\n",
       "      <td>1229.40</td>\n",
       "      <td>10.48</td>\n",
       "      <td>...</td>\n",
       "      <td>7.33</td>\n",
       "      <td>48.17</td>\n",
       "      <td>12.56</td>\n",
       "      <td>23.04</td>\n",
       "      <td>57.60</td>\n",
       "      <td>13.61</td>\n",
       "      <td>4.19</td>\n",
       "      <td>27.23</td>\n",
       "      <td>9.42</td>\n",
       "      <td>37.69</td>\n",
       "    </tr>\n",
       "    <tr>\n",
       "      <th>1</th>\n",
       "      <td>SIDM00835</td>\n",
       "      <td>5191.50</td>\n",
       "      <td>868.22</td>\n",
       "      <td>244.88</td>\n",
       "      <td>556.55</td>\n",
       "      <td>92.02</td>\n",
       "      <td>1519.75</td>\n",
       "      <td>1067.09</td>\n",
       "      <td>553.58</td>\n",
       "      <td>25.23</td>\n",
       "      <td>...</td>\n",
       "      <td>10.39</td>\n",
       "      <td>47.49</td>\n",
       "      <td>20.78</td>\n",
       "      <td>40.07</td>\n",
       "      <td>62.33</td>\n",
       "      <td>34.14</td>\n",
       "      <td>13.36</td>\n",
       "      <td>59.37</td>\n",
       "      <td>13.36</td>\n",
       "      <td>80.14</td>\n",
       "    </tr>\n",
       "    <tr>\n",
       "      <th>2</th>\n",
       "      <td>SIDM00741</td>\n",
       "      <td>24991.05</td>\n",
       "      <td>5066.09</td>\n",
       "      <td>818.49</td>\n",
       "      <td>3661.86</td>\n",
       "      <td>942.62</td>\n",
       "      <td>4616.12</td>\n",
       "      <td>2195.57</td>\n",
       "      <td>4243.72</td>\n",
       "      <td>15.52</td>\n",
       "      <td>...</td>\n",
       "      <td>3.88</td>\n",
       "      <td>38.79</td>\n",
       "      <td>11.64</td>\n",
       "      <td>23.27</td>\n",
       "      <td>58.19</td>\n",
       "      <td>17.45</td>\n",
       "      <td>5.81</td>\n",
       "      <td>44.60</td>\n",
       "      <td>7.76</td>\n",
       "      <td>52.36</td>\n",
       "    </tr>\n",
       "    <tr>\n",
       "      <th>3</th>\n",
       "      <td>SIDM01254</td>\n",
       "      <td>3253.83</td>\n",
       "      <td>74.21</td>\n",
       "      <td>53.28</td>\n",
       "      <td>315.87</td>\n",
       "      <td>1.90</td>\n",
       "      <td>755.43</td>\n",
       "      <td>1162.62</td>\n",
       "      <td>388.18</td>\n",
       "      <td>45.67</td>\n",
       "      <td>...</td>\n",
       "      <td>7.61</td>\n",
       "      <td>58.99</td>\n",
       "      <td>15.23</td>\n",
       "      <td>119.88</td>\n",
       "      <td>178.87</td>\n",
       "      <td>15.23</td>\n",
       "      <td>5.71</td>\n",
       "      <td>34.25</td>\n",
       "      <td>7.61</td>\n",
       "      <td>125.58</td>\n",
       "    </tr>\n",
       "    <tr>\n",
       "      <th>4</th>\n",
       "      <td>SIDM00851</td>\n",
       "      <td>225.28</td>\n",
       "      <td>35.74</td>\n",
       "      <td>27.19</td>\n",
       "      <td>94.00</td>\n",
       "      <td>0.77</td>\n",
       "      <td>147.60</td>\n",
       "      <td>183.33</td>\n",
       "      <td>231.50</td>\n",
       "      <td>12.43</td>\n",
       "      <td>...</td>\n",
       "      <td>4.66</td>\n",
       "      <td>43.50</td>\n",
       "      <td>18.64</td>\n",
       "      <td>30.29</td>\n",
       "      <td>71.47</td>\n",
       "      <td>15.54</td>\n",
       "      <td>8.54</td>\n",
       "      <td>17.87</td>\n",
       "      <td>9.33</td>\n",
       "      <td>17.09</td>\n",
       "    </tr>\n",
       "  </tbody>\n",
       "</table>\n",
       "<p>5 rows × 735 columns</p>\n",
       "</div>"
      ],
      "text/plain": [
       "         0         1        2       3        4       5        6        7    \\\n",
       "0  SIDM00523   4362.58   187.44  267.03   868.11    1.04   959.22  1638.85   \n",
       "1  SIDM00835   5191.50   868.22  244.88   556.55   92.02  1519.75  1067.09   \n",
       "2  SIDM00741  24991.05  5066.09  818.49  3661.86  942.62  4616.12  2195.57   \n",
       "3  SIDM01254   3253.83    74.21   53.28   315.87    1.90   755.43  1162.62   \n",
       "4  SIDM00851    225.28    35.74   27.19    94.00    0.77   147.60   183.33   \n",
       "\n",
       "       8      9    ...    725    726    727     728     729    730    731  \\\n",
       "0  1229.40  10.48  ...   7.33  48.17  12.56   23.04   57.60  13.61   4.19   \n",
       "1   553.58  25.23  ...  10.39  47.49  20.78   40.07   62.33  34.14  13.36   \n",
       "2  4243.72  15.52  ...   3.88  38.79  11.64   23.27   58.19  17.45   5.81   \n",
       "3   388.18  45.67  ...   7.61  58.99  15.23  119.88  178.87  15.23   5.71   \n",
       "4   231.50  12.43  ...   4.66  43.50  18.64   30.29   71.47  15.54   8.54   \n",
       "\n",
       "     732    733     734  \n",
       "0  27.23   9.42   37.69  \n",
       "1  59.37  13.36   80.14  \n",
       "2  44.60   7.76   52.36  \n",
       "3  34.25   7.61  125.58  \n",
       "4  17.87   9.33   17.09  \n",
       "\n",
       "[5 rows x 735 columns]"
      ]
     },
     "execution_count": 39,
     "metadata": {},
     "output_type": "execute_result"
    }
   ],
   "source": [
    "miRNA_original = pd.read_csv(\"../input/mirrna-pca/matrix_mirRNA_pca.csv\",header=None)\n",
    "miRNA = miRNA_original.copy()\n",
    "print(miRNA.shape)\n",
    "miRNA.head()"
   ]
  },
  {
   "cell_type": "code",
   "execution_count": 40,
   "metadata": {
    "execution": {
     "iopub.execute_input": "2021-01-16T14:26:36.073504Z",
     "iopub.status.busy": "2021-01-16T14:26:36.072820Z",
     "iopub.status.idle": "2021-01-16T14:26:36.100451Z",
     "shell.execute_reply": "2021-01-16T14:26:36.099800Z"
    },
    "papermill": {
     "duration": 0.082759,
     "end_time": "2021-01-16T14:26:36.100558",
     "exception": false,
     "start_time": "2021-01-16T14:26:36.017799",
     "status": "completed"
    },
    "tags": []
   },
   "outputs": [
    {
     "data": {
      "text/html": [
       "<div>\n",
       "<style scoped>\n",
       "    .dataframe tbody tr th:only-of-type {\n",
       "        vertical-align: middle;\n",
       "    }\n",
       "\n",
       "    .dataframe tbody tr th {\n",
       "        vertical-align: top;\n",
       "    }\n",
       "\n",
       "    .dataframe thead th {\n",
       "        text-align: right;\n",
       "    }\n",
       "</style>\n",
       "<table border=\"1\" class=\"dataframe\">\n",
       "  <thead>\n",
       "    <tr style=\"text-align: right;\">\n",
       "      <th></th>\n",
       "      <th>1</th>\n",
       "      <th>2</th>\n",
       "      <th>3</th>\n",
       "      <th>4</th>\n",
       "      <th>5</th>\n",
       "      <th>6</th>\n",
       "      <th>7</th>\n",
       "      <th>8</th>\n",
       "      <th>9</th>\n",
       "      <th>10</th>\n",
       "      <th>...</th>\n",
       "      <th>725</th>\n",
       "      <th>726</th>\n",
       "      <th>727</th>\n",
       "      <th>728</th>\n",
       "      <th>729</th>\n",
       "      <th>730</th>\n",
       "      <th>731</th>\n",
       "      <th>732</th>\n",
       "      <th>733</th>\n",
       "      <th>734</th>\n",
       "    </tr>\n",
       "  </thead>\n",
       "  <tbody>\n",
       "    <tr>\n",
       "      <th>0</th>\n",
       "      <td>4362.58</td>\n",
       "      <td>187.44</td>\n",
       "      <td>267.03</td>\n",
       "      <td>868.11</td>\n",
       "      <td>1.04</td>\n",
       "      <td>959.22</td>\n",
       "      <td>1638.85</td>\n",
       "      <td>1229.40</td>\n",
       "      <td>10.48</td>\n",
       "      <td>7.33</td>\n",
       "      <td>...</td>\n",
       "      <td>7.33</td>\n",
       "      <td>48.17</td>\n",
       "      <td>12.56</td>\n",
       "      <td>23.04</td>\n",
       "      <td>57.60</td>\n",
       "      <td>13.61</td>\n",
       "      <td>4.19</td>\n",
       "      <td>27.23</td>\n",
       "      <td>9.42</td>\n",
       "      <td>37.69</td>\n",
       "    </tr>\n",
       "    <tr>\n",
       "      <th>1</th>\n",
       "      <td>5191.50</td>\n",
       "      <td>868.22</td>\n",
       "      <td>244.88</td>\n",
       "      <td>556.55</td>\n",
       "      <td>92.02</td>\n",
       "      <td>1519.75</td>\n",
       "      <td>1067.09</td>\n",
       "      <td>553.58</td>\n",
       "      <td>25.23</td>\n",
       "      <td>32.65</td>\n",
       "      <td>...</td>\n",
       "      <td>10.39</td>\n",
       "      <td>47.49</td>\n",
       "      <td>20.78</td>\n",
       "      <td>40.07</td>\n",
       "      <td>62.33</td>\n",
       "      <td>34.14</td>\n",
       "      <td>13.36</td>\n",
       "      <td>59.37</td>\n",
       "      <td>13.36</td>\n",
       "      <td>80.14</td>\n",
       "    </tr>\n",
       "    <tr>\n",
       "      <th>2</th>\n",
       "      <td>24991.05</td>\n",
       "      <td>5066.09</td>\n",
       "      <td>818.49</td>\n",
       "      <td>3661.86</td>\n",
       "      <td>942.62</td>\n",
       "      <td>4616.12</td>\n",
       "      <td>2195.57</td>\n",
       "      <td>4243.72</td>\n",
       "      <td>15.52</td>\n",
       "      <td>17.45</td>\n",
       "      <td>...</td>\n",
       "      <td>3.88</td>\n",
       "      <td>38.79</td>\n",
       "      <td>11.64</td>\n",
       "      <td>23.27</td>\n",
       "      <td>58.19</td>\n",
       "      <td>17.45</td>\n",
       "      <td>5.81</td>\n",
       "      <td>44.60</td>\n",
       "      <td>7.76</td>\n",
       "      <td>52.36</td>\n",
       "    </tr>\n",
       "    <tr>\n",
       "      <th>3</th>\n",
       "      <td>3253.83</td>\n",
       "      <td>74.21</td>\n",
       "      <td>53.28</td>\n",
       "      <td>315.87</td>\n",
       "      <td>1.90</td>\n",
       "      <td>755.43</td>\n",
       "      <td>1162.62</td>\n",
       "      <td>388.18</td>\n",
       "      <td>45.67</td>\n",
       "      <td>91.34</td>\n",
       "      <td>...</td>\n",
       "      <td>7.61</td>\n",
       "      <td>58.99</td>\n",
       "      <td>15.23</td>\n",
       "      <td>119.88</td>\n",
       "      <td>178.87</td>\n",
       "      <td>15.23</td>\n",
       "      <td>5.71</td>\n",
       "      <td>34.25</td>\n",
       "      <td>7.61</td>\n",
       "      <td>125.58</td>\n",
       "    </tr>\n",
       "    <tr>\n",
       "      <th>4</th>\n",
       "      <td>225.28</td>\n",
       "      <td>35.74</td>\n",
       "      <td>27.19</td>\n",
       "      <td>94.00</td>\n",
       "      <td>0.77</td>\n",
       "      <td>147.60</td>\n",
       "      <td>183.33</td>\n",
       "      <td>231.50</td>\n",
       "      <td>12.43</td>\n",
       "      <td>12.43</td>\n",
       "      <td>...</td>\n",
       "      <td>4.66</td>\n",
       "      <td>43.50</td>\n",
       "      <td>18.64</td>\n",
       "      <td>30.29</td>\n",
       "      <td>71.47</td>\n",
       "      <td>15.54</td>\n",
       "      <td>8.54</td>\n",
       "      <td>17.87</td>\n",
       "      <td>9.33</td>\n",
       "      <td>17.09</td>\n",
       "    </tr>\n",
       "  </tbody>\n",
       "</table>\n",
       "<p>5 rows × 734 columns</p>\n",
       "</div>"
      ],
      "text/plain": [
       "        1        2       3        4       5        6        7        8    \\\n",
       "0   4362.58   187.44  267.03   868.11    1.04   959.22  1638.85  1229.40   \n",
       "1   5191.50   868.22  244.88   556.55   92.02  1519.75  1067.09   553.58   \n",
       "2  24991.05  5066.09  818.49  3661.86  942.62  4616.12  2195.57  4243.72   \n",
       "3   3253.83    74.21   53.28   315.87    1.90   755.43  1162.62   388.18   \n",
       "4    225.28    35.74   27.19    94.00    0.77   147.60   183.33   231.50   \n",
       "\n",
       "     9      10   ...    725    726    727     728     729    730    731  \\\n",
       "0  10.48   7.33  ...   7.33  48.17  12.56   23.04   57.60  13.61   4.19   \n",
       "1  25.23  32.65  ...  10.39  47.49  20.78   40.07   62.33  34.14  13.36   \n",
       "2  15.52  17.45  ...   3.88  38.79  11.64   23.27   58.19  17.45   5.81   \n",
       "3  45.67  91.34  ...   7.61  58.99  15.23  119.88  178.87  15.23   5.71   \n",
       "4  12.43  12.43  ...   4.66  43.50  18.64   30.29   71.47  15.54   8.54   \n",
       "\n",
       "     732    733     734  \n",
       "0  27.23   9.42   37.69  \n",
       "1  59.37  13.36   80.14  \n",
       "2  44.60   7.76   52.36  \n",
       "3  34.25   7.61  125.58  \n",
       "4  17.87   9.33   17.09  \n",
       "\n",
       "[5 rows x 734 columns]"
      ]
     },
     "execution_count": 40,
     "metadata": {},
     "output_type": "execute_result"
    }
   ],
   "source": [
    "# Remove model_id column (first column)\n",
    "first_column = miRNA.columns[0]\n",
    "miRNA = miRNA.drop([first_column], axis=1)\n",
    "miRNA.head()"
   ]
  },
  {
   "cell_type": "code",
   "execution_count": 41,
   "metadata": {
    "execution": {
     "iopub.execute_input": "2021-01-16T14:26:36.208556Z",
     "iopub.status.busy": "2021-01-16T14:26:36.207473Z",
     "iopub.status.idle": "2021-01-16T14:26:36.212354Z",
     "shell.execute_reply": "2021-01-16T14:26:36.211011Z"
    },
    "papermill": {
     "duration": 0.061613,
     "end_time": "2021-01-16T14:26:36.212468",
     "exception": false,
     "start_time": "2021-01-16T14:26:36.150855",
     "status": "completed"
    },
    "tags": []
   },
   "outputs": [
    {
     "name": "stdout",
     "output_type": "stream",
     "text": [
      "(942, 734)\n"
     ]
    }
   ],
   "source": [
    "X = miRNA.iloc [:,0:734].values\n",
    "print(X.shape)"
   ]
  },
  {
   "cell_type": "code",
   "execution_count": 42,
   "metadata": {
    "execution": {
     "iopub.execute_input": "2021-01-16T14:26:36.322740Z",
     "iopub.status.busy": "2021-01-16T14:26:36.321998Z",
     "iopub.status.idle": "2021-01-16T14:26:36.972174Z",
     "shell.execute_reply": "2021-01-16T14:26:36.972850Z"
    },
    "papermill": {
     "duration": 0.709169,
     "end_time": "2021-01-16T14:26:36.973019",
     "exception": false,
     "start_time": "2021-01-16T14:26:36.263850",
     "status": "completed"
    },
    "tags": []
   },
   "outputs": [],
   "source": [
    "# Standardize the feature matrix\n",
    "X = StandardScaler().fit_transform(X)\n",
    "\n",
    "# Make sparse matrix\n",
    "X_sparse = csr_matrix(X)\n",
    "X_sparse.shape\n",
    "\n",
    "# Create and run an TSVD with one less than number of features\n",
    "tsvd = TruncatedSVD(n_components=X_sparse.shape[1]-1)\n",
    "X_tsvd = tsvd.fit(X)\n",
    "\n",
    "# List of explained variances\n",
    "tsvd_var_ratios = tsvd.explained_variance_ratio_"
   ]
  },
  {
   "cell_type": "code",
   "execution_count": 43,
   "metadata": {
    "execution": {
     "iopub.execute_input": "2021-01-16T14:26:37.083998Z",
     "iopub.status.busy": "2021-01-16T14:26:37.083028Z",
     "iopub.status.idle": "2021-01-16T14:26:37.089335Z",
     "shell.execute_reply": "2021-01-16T14:26:37.089928Z"
    },
    "papermill": {
     "duration": 0.062019,
     "end_time": "2021-01-16T14:26:37.090062",
     "exception": false,
     "start_time": "2021-01-16T14:26:37.028043",
     "status": "completed"
    },
    "tags": []
   },
   "outputs": [],
   "source": [
    "# Create a function\n",
    "def select_n_components(var_ratio, goal_var: float) -> int:\n",
    "    # Set initial variance explained so far\n",
    "    total_variance = 0.0\n",
    "    \n",
    "    # Set initial number of features\n",
    "    n_components = 0\n",
    "    \n",
    "    # For the explained variance of each feature:\n",
    "    for explained_variance in var_ratio:\n",
    "        \n",
    "        # Add the explained variance to the total\n",
    "        total_variance += explained_variance\n",
    "        \n",
    "        # Add one to the number of components\n",
    "        n_components += 1\n",
    "        \n",
    "        # If we reach our goal level of explained variance\n",
    "        if total_variance >= goal_var:\n",
    "            # End the loop\n",
    "            break\n",
    "            \n",
    "    # Return the number of components\n",
    "    return n_components"
   ]
  },
  {
   "cell_type": "code",
   "execution_count": 44,
   "metadata": {
    "execution": {
     "iopub.execute_input": "2021-01-16T14:26:37.198169Z",
     "iopub.status.busy": "2021-01-16T14:26:37.197159Z",
     "iopub.status.idle": "2021-01-16T14:26:37.202951Z",
     "shell.execute_reply": "2021-01-16T14:26:37.203528Z"
    },
    "papermill": {
     "duration": 0.061428,
     "end_time": "2021-01-16T14:26:37.203665",
     "exception": false,
     "start_time": "2021-01-16T14:26:37.142237",
     "status": "completed"
    },
    "tags": []
   },
   "outputs": [
    {
     "data": {
      "text/plain": [
       "197"
      ]
     },
     "execution_count": 44,
     "metadata": {},
     "output_type": "execute_result"
    }
   ],
   "source": [
    "# Run function\n",
    "select_n_components(tsvd_var_ratios, 0.90)"
   ]
  },
  {
   "cell_type": "code",
   "execution_count": 45,
   "metadata": {
    "execution": {
     "iopub.execute_input": "2021-01-16T14:26:37.326187Z",
     "iopub.status.busy": "2021-01-16T14:26:37.325527Z",
     "iopub.status.idle": "2021-01-16T14:26:38.402282Z",
     "shell.execute_reply": "2021-01-16T14:26:38.400848Z"
    },
    "papermill": {
     "duration": 1.144434,
     "end_time": "2021-01-16T14:26:38.402469",
     "exception": false,
     "start_time": "2021-01-16T14:26:37.258035",
     "status": "completed"
    },
    "tags": []
   },
   "outputs": [
    {
     "name": "stdout",
     "output_type": "stream",
     "text": [
      "Original number of features: 734\n",
      "Reduced number of features: 197\n"
     ]
    }
   ],
   "source": [
    "# Create a TSVD\n",
    "tsvd = TruncatedSVD(n_components=197)\n",
    "# Conduct TSVD on sparse matrix\n",
    "X_sparse_tsvd = tsvd.fit(X_sparse).transform(X_sparse)\n",
    "\n",
    "# Show results\n",
    "print('Original number of features:', X_sparse.shape[1])\n",
    "print('Reduced number of features:', X_sparse_tsvd.shape[1])"
   ]
  },
  {
   "cell_type": "code",
   "execution_count": 46,
   "metadata": {
    "execution": {
     "iopub.execute_input": "2021-01-16T14:26:38.514895Z",
     "iopub.status.busy": "2021-01-16T14:26:38.513886Z",
     "iopub.status.idle": "2021-01-16T14:26:38.984838Z",
     "shell.execute_reply": "2021-01-16T14:26:38.985364Z"
    },
    "papermill": {
     "duration": 0.529805,
     "end_time": "2021-01-16T14:26:38.985519",
     "exception": false,
     "start_time": "2021-01-16T14:26:38.455714",
     "status": "completed"
    },
    "tags": []
   },
   "outputs": [
    {
     "name": "stdout",
     "output_type": "stream",
     "text": [
      "[[-1.06028511e+01 -8.54666288e-01 -4.81936178e-01 ... -4.93838439e-01\n",
      "   1.13149543e-02  3.93584459e-01]\n",
      " [ 9.39918437e+00 -9.49505525e+00  1.25583918e+00 ... -1.23637613e+00\n",
      "   2.38321083e-01  2.89461797e-01]\n",
      " [ 6.67027537e+00  5.59840624e+00 -1.34104591e-01 ...  6.23953600e-02\n",
      "  -6.96102690e-01  4.89164438e-01]\n",
      " ...\n",
      " [-1.95898894e+00  1.49336411e+01  1.64343039e+01 ... -3.40047157e-02\n",
      "   2.94392116e-01 -1.50947781e-01]\n",
      " [-1.41641713e+01  8.21292620e-01 -4.56991091e-01 ... -6.52044575e-01\n",
      "  -2.17602945e-01 -9.02831486e-02]\n",
      " [-1.26108514e+01 -2.25313820e+00 -3.34568796e-01 ...  4.34444200e-01\n",
      "   1.28668165e+00 -2.86663274e-01]]\n"
     ]
    }
   ],
   "source": [
    "print(X_sparse_tsvd)\n",
    "pd.DataFrame(X_sparse_tsvd).to_csv(\"./miRNA_SVD.csv\", header=None, index=None)"
   ]
  }
 ],
 "metadata": {
  "kernelspec": {
   "display_name": "Python 3",
   "language": "python",
   "name": "python3"
  },
  "language_info": {
   "codemirror_mode": {
    "name": "ipython",
    "version": 3
   },
   "file_extension": ".py",
   "mimetype": "text/x-python",
   "name": "python",
   "nbconvert_exporter": "python",
   "pygments_lexer": "ipython3",
   "version": "3.7.6"
  },
  "papermill": {
   "duration": 1007.015464,
   "end_time": "2021-01-16T14:26:39.146599",
   "environment_variables": {},
   "exception": null,
   "input_path": "__notebook__.ipynb",
   "output_path": "__notebook__.ipynb",
   "parameters": {},
   "start_time": "2021-01-16T14:09:52.131135",
   "version": "2.1.0"
  }
 },
 "nbformat": 4,
 "nbformat_minor": 4
}
